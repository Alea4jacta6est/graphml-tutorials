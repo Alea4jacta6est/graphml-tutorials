{
 "cells": [
  {
   "cell_type": "markdown",
   "metadata": {},
   "source": [
    "# Heterogeneous graph attention networks\n",
    "\n",
    "By Pavlin Poličar 15.10.2020"
   ]
  },
  {
   "cell_type": "code",
   "execution_count": 1,
   "metadata": {},
   "outputs": [],
   "source": [
    "from enum import IntEnum\n",
    "from math import comb\n",
    "\n",
    "import numpy as np\n",
    "import pandas as pd\n",
    "import networkx as nx\n",
    "\n",
    "import torch\n",
    "import torch_geometric as pyg"
   ]
  },
  {
   "cell_type": "markdown",
   "metadata": {},
   "source": [
    "## Download and load data\n",
    "\n",
    "In this notebook, we'll use two small data sets. One will be the same as in the previous notebook -- interactions between FDA-approved drugs (ChCh-Miner), while the other will be the interactions between the drugs and their corresponding targets (ChG-Miner). Both of these data sets can be obtained from the _Stanford Biomedical Network Dataset Collection_."
   ]
  },
  {
   "cell_type": "code",
   "execution_count": 2,
   "metadata": {},
   "outputs": [
    {
     "name": "stdout",
     "output_type": "stream",
     "text": [
      "--2020-12-05 14:22:08--  http://snap.stanford.edu/biodata/datasets/10001/files/ChCh-Miner_durgbank-chem-chem.tsv.gz\n",
      "Resolving snap.stanford.edu (snap.stanford.edu)... 171.64.75.80\n",
      "Connecting to snap.stanford.edu (snap.stanford.edu)|171.64.75.80|:80... connected.\n",
      "HTTP request sent, awaiting response... 200 OK\n",
      "Length: 206802 (202K) [application/x-gzip]\n",
      "Saving to: ‘data/ChCh-Miner_durgbank-chem-chem.tsv.gz’\n",
      "\n",
      "data/ChCh-Miner_dur 100%[===================>] 201.96K   199KB/s    in 1.0s    \n",
      "\n",
      "2020-12-05 14:22:10 (199 KB/s) - ‘data/ChCh-Miner_durgbank-chem-chem.tsv.gz’ saved [206802/206802]\n",
      "\n",
      "--2020-12-05 14:22:10--  http://snap.stanford.edu/biodata/datasets/10002/files/ChG-Miner_miner-chem-gene.tsv.gz\n",
      "Resolving snap.stanford.edu (snap.stanford.edu)... 171.64.75.80\n",
      "Connecting to snap.stanford.edu (snap.stanford.edu)|171.64.75.80|:80... connected.\n",
      "HTTP request sent, awaiting response... 200 OK\n",
      "Length: 76098 (74K) [application/x-gzip]\n",
      "Saving to: ‘data/ChG-Miner_miner-chem-gene.tsv.gz’\n",
      "\n",
      "data/ChG-Miner_mine 100%[===================>]  74.31K   147KB/s    in 0.5s    \n",
      "\n",
      "2020-12-05 14:22:11 (147 KB/s) - ‘data/ChG-Miner_miner-chem-gene.tsv.gz’ saved [76098/76098]\n",
      "\n",
      "gzip: data/ChCh-Miner_durgbank-chem-chem.tsv already exists;\tnot overwritten\n",
      "yes: standard output: Broken pipe\n",
      "gzip: data/ChG-Miner_miner-chem-gene.tsv already exists;\tnot overwritten\n",
      "yes: standard output: Broken pipe\n"
     ]
    }
   ],
   "source": [
    "!mkdir -p data\n",
    "\n",
    "!wget http://snap.stanford.edu/biodata/datasets/10001/files/ChCh-Miner_durgbank-chem-chem.tsv.gz -O data/ChCh-Miner_durgbank-chem-chem.tsv.gz\n",
    "!wget http://snap.stanford.edu/biodata/datasets/10002/files/ChG-Miner_miner-chem-gene.tsv.gz -O data/ChG-Miner_miner-chem-gene.tsv.gz\n",
    "\n",
    "!yes | gunzip data/ChCh-Miner_durgbank-chem-chem.tsv.gz\n",
    "!yes | gunzip data/ChG-Miner_miner-chem-gene.tsv.gz"
   ]
  },
  {
   "cell_type": "code",
   "execution_count": 3,
   "metadata": {},
   "outputs": [
    {
     "name": "stdout",
     "output_type": "stream",
     "text": [
      "DB00862\tDB00966\n",
      "DB00575\tDB00806\n",
      "DB01242\tDB08893\n",
      "DB01151\tDB08883\n",
      "DB01235\tDB01275\n",
      "DB00018\tDB00333\n",
      "DB00201\tDB01609\n",
      "DB00712\tDB01418\n",
      "DB01576\tDB04842\n",
      "DB01609\tDB06212\n"
     ]
    }
   ],
   "source": [
    "!head data/ChCh-Miner_durgbank-chem-chem.tsv"
   ]
  },
  {
   "cell_type": "markdown",
   "metadata": {},
   "source": [
    "This time, we have two different node types: drugs and targets. The targets here are actual genes, so we assign each node and edge type its own id, so we can more easily identify them later on."
   ]
  },
  {
   "cell_type": "code",
   "execution_count": 4,
   "metadata": {},
   "outputs": [],
   "source": [
    "class NodeType(IntEnum):\n",
    "    DRUG = 1\n",
    "    GENE = 2\n",
    "    \n",
    "class EdgeType(IntEnum):\n",
    "    DRUG_DRUG = 1\n",
    "    DRUG_GENE = 2\n",
    "    GENE_DRUG = 3\n",
    "    GENE_GENE = 4\n",
    "    \n",
    "    @classmethod\n",
    "    def from_nodes(cls, n1, n2):\n",
    "        return {\n",
    "            (NodeType.DRUG, NodeType.DRUG): cls.DRUG_DRUG,\n",
    "            (NodeType.DRUG, NodeType.GENE): cls.DRUG_GENE,\n",
    "            (NodeType.GENE, NodeType.DRUG): cls.GENE_DRUG,\n",
    "            (NodeType.GENE, NodeType.GENE): cls.GENE_GENE,\n",
    "        }[int(n1), int(n2)]"
   ]
  },
  {
   "cell_type": "code",
   "execution_count": 5,
   "metadata": {},
   "outputs": [
    {
     "name": "stdout",
     "output_type": "stream",
     "text": [
      "48,514 interactions\n"
     ]
    }
   ],
   "source": [
    "f1_drugs = set()\n",
    "entity_dict, edge_index = {}, []\n",
    "entity_count = 0  # we will use this to assign numbers to drugs\n",
    "entity_type = []\n",
    "\n",
    "with open(\"data/ChCh-Miner_durgbank-chem-chem.tsv\") as f:\n",
    "    for line in f:\n",
    "        line = line.rstrip()\n",
    "        d1, d2 = line.split(\"\\t\")\n",
    "        \n",
    "        if d1 not in entity_dict:\n",
    "            entity_dict[d1] = entity_count\n",
    "            entity_type.append(NodeType.DRUG)\n",
    "            entity_count += 1\n",
    "        if d2 not in entity_dict:\n",
    "            entity_dict[d2] = entity_count\n",
    "            entity_type.append(NodeType.DRUG)\n",
    "            entity_count += 1\n",
    "        \n",
    "        edge_index.append([entity_dict[d1], entity_dict[d2]])\n",
    "        f1_drugs.add(d1)\n",
    "        f1_drugs.add(d2)\n",
    "\n",
    "print(f\"{len(edge_index):,} interactions\")"
   ]
  },
  {
   "cell_type": "code",
   "execution_count": 6,
   "metadata": {},
   "outputs": [
    {
     "name": "stdout",
     "output_type": "stream",
     "text": [
      "#Drug\tGene\n",
      "DB00357\tP05108\n",
      "DB02721\tP00325\n",
      "DB00773\tP23219\n",
      "DB07138\tQ16539\n",
      "DB08136\tP24941\n",
      "DB01242\tP23975\n",
      "DB01238\tP08173\n",
      "DB00186\tP48169\n",
      "DB00338\tP10635\n"
     ]
    }
   ],
   "source": [
    "!head data/ChG-Miner_miner-chem-gene.tsv"
   ]
  },
  {
   "cell_type": "code",
   "execution_count": 7,
   "metadata": {},
   "outputs": [
    {
     "name": "stdout",
     "output_type": "stream",
     "text": [
      "63,654 interactions\n"
     ]
    }
   ],
   "source": [
    "f2_drugs = set()\n",
    "with open(\"data/ChG-Miner_miner-chem-gene.tsv\") as f:\n",
    "    for line in f:\n",
    "        line = line.rstrip()\n",
    "        d1, d2 = line.split(\"\\t\")\n",
    "        \n",
    "        if d1 not in entity_dict:\n",
    "            entity_dict[d1] = entity_count\n",
    "            entity_type.append(NodeType.DRUG)\n",
    "            entity_count += 1\n",
    "        if d2 not in entity_dict:\n",
    "            entity_dict[d2] = entity_count\n",
    "            entity_type.append(NodeType.GENE)\n",
    "            entity_count += 1\n",
    "        \n",
    "        edge_index.append([entity_dict[d1], entity_dict[d2]])\n",
    "        f2_drugs.add(d1)\n",
    "\n",
    "print(f\"{len(edge_index):,} interactions\")"
   ]
  },
  {
   "cell_type": "markdown",
   "metadata": {},
   "source": [
    "Let's verify that at least some of the drugs overlap between the two datasets."
   ]
  },
  {
   "cell_type": "code",
   "execution_count": 8,
   "metadata": {},
   "outputs": [
    {
     "data": {
      "text/plain": [
       "1205"
      ]
     },
     "execution_count": 8,
     "metadata": {},
     "output_type": "execute_result"
    }
   ],
   "source": [
    "len(f1_drugs & f2_drugs)"
   ]
  },
  {
   "cell_type": "code",
   "execution_count": 9,
   "metadata": {},
   "outputs": [
    {
     "data": {
      "text/plain": [
       "1    5327\n",
       "2    2325\n",
       "dtype: int64"
      ]
     },
     "execution_count": 9,
     "metadata": {},
     "output_type": "execute_result"
    }
   ],
   "source": [
    "entity_type = torch.LongTensor(entity_type)\n",
    "pd.Series.value_counts(entity_type.numpy())"
   ]
  },
  {
   "cell_type": "code",
   "execution_count": 10,
   "metadata": {},
   "outputs": [
    {
     "data": {
      "text/plain": [
       "tensor([[   0,    2,    4,  ...,  923,  185, 7651],\n",
       "        [   1,    3,    5,  ..., 2005, 1541, 1531]])"
      ]
     },
     "execution_count": 10,
     "metadata": {},
     "output_type": "execute_result"
    }
   ],
   "source": [
    "edge_index = torch.LongTensor(edge_index).T\n",
    "edge_index"
   ]
  },
  {
   "cell_type": "markdown",
   "metadata": {},
   "source": [
    "## Prepare graph\n",
    "### Examine graph"
   ]
  },
  {
   "cell_type": "code",
   "execution_count": 11,
   "metadata": {},
   "outputs": [
    {
     "name": "stdout",
     "output_type": "stream",
     "text": [
      "Sparsity: 0.00\n"
     ]
    }
   ],
   "source": [
    "print(\"Sparsity: %.2f\" % (edge_index.size(1) / comb(len(edge_index[0].unique()), 2)))"
   ]
  },
  {
   "cell_type": "code",
   "execution_count": 12,
   "metadata": {},
   "outputs": [
    {
     "data": {
      "text/plain": [
       "False"
      ]
     },
     "execution_count": 12,
     "metadata": {},
     "output_type": "execute_result"
    }
   ],
   "source": [
    "pyg.utils.is_undirected(edge_index)"
   ]
  },
  {
   "cell_type": "markdown",
   "metadata": {},
   "source": [
    "Even though the graph is undirected, we're going to cast it to a directed graph, so this will be one less piece of complexity we will have to worry about."
   ]
  },
  {
   "cell_type": "code",
   "execution_count": 13,
   "metadata": {},
   "outputs": [],
   "source": [
    "edge_index = pyg.utils.to_undirected(edge_index)"
   ]
  },
  {
   "cell_type": "code",
   "execution_count": 14,
   "metadata": {},
   "outputs": [
    {
     "name": "stdout",
     "output_type": "stream",
     "text": [
      "7,652 nodes\n"
     ]
    }
   ],
   "source": [
    "num_nodes = entity_count\n",
    "print(f\"{num_nodes:,} nodes\")"
   ]
  },
  {
   "cell_type": "markdown",
   "metadata": {},
   "source": [
    "### Extract LCC\n",
    "\n",
    "Many graph-based learning techniques cannot operate on disconnected graphs, so it is standard practice to operate on the largest connected component (LCC). The easiest way to exctract the LCC is to use _networkx_, a popular pure Python library for network analysis."
   ]
  },
  {
   "cell_type": "code",
   "execution_count": 15,
   "metadata": {},
   "outputs": [
    {
     "name": "stderr",
     "output_type": "stream",
     "text": [
      "WARNING:root:The number of nodes in your data object can only be inferred by its edge indices, and hence may result in unexpected batch-wise behavior, e.g., in case there exists isolated nodes. Please consider explicitly setting the number of nodes for this data object by assigning it to data.num_nodes.\n"
     ]
    },
    {
     "data": {
      "text/plain": [
       "<networkx.classes.graph.Graph at 0x7fa9926c4dc0>"
      ]
     },
     "execution_count": 15,
     "metadata": {},
     "output_type": "execute_result"
    }
   ],
   "source": [
    "data = pyg.data.Data(edge_index=edge_index, node_type=entity_type)\n",
    "nx_data = pyg.utils.to_networkx(data, to_undirected=True, node_attrs=[\"node_type\"])\n",
    "nx_data"
   ]
  },
  {
   "cell_type": "code",
   "execution_count": 16,
   "metadata": {},
   "outputs": [
    {
     "name": "stdout",
     "output_type": "stream",
     "text": [
      "Graph contains 178 connected components\n"
     ]
    }
   ],
   "source": [
    "connected_components = list(nx.connected_components(nx_data))\n",
    "print(f\"Graph contains {len(connected_components)} connected components\")"
   ]
  },
  {
   "cell_type": "code",
   "execution_count": 17,
   "metadata": {},
   "outputs": [
    {
     "name": "stdout",
     "output_type": "stream",
     "text": [
      "7,064 nodes in LCC\n"
     ]
    }
   ],
   "source": [
    "lcc_nodes = max(connected_components, key=len)\n",
    "lcc = nx_data.subgraph(lcc_nodes)\n",
    "print(f\"{lcc.number_of_nodes():,} nodes in LCC\")"
   ]
  },
  {
   "cell_type": "code",
   "execution_count": 18,
   "metadata": {},
   "outputs": [
    {
     "data": {
      "text/plain": [
       "Data(edge_index=[2, 126466], node_type=[7064])"
      ]
     },
     "execution_count": 18,
     "metadata": {},
     "output_type": "execute_result"
    }
   ],
   "source": [
    "pyg.utils.from_networkx(lcc)"
   ]
  },
  {
   "cell_type": "code",
   "execution_count": 19,
   "metadata": {},
   "outputs": [],
   "source": [
    "lcc_data = pyg.utils.from_networkx(lcc)\n",
    "edge_index = lcc_data.edge_index\n",
    "node_type = lcc_data.node_type"
   ]
  },
  {
   "cell_type": "code",
   "execution_count": 20,
   "metadata": {},
   "outputs": [
    {
     "name": "stdout",
     "output_type": "stream",
     "text": [
      "7,064 nodes\n"
     ]
    }
   ],
   "source": [
    "print(f\"{len(edge_index.unique()):,} nodes\")"
   ]
  },
  {
   "cell_type": "markdown",
   "metadata": {},
   "source": [
    "### Determine edge types\n",
    "\n",
    "The edge types here are important, as they each carry a different semantic meaning. Interactions between drugs are not semantically equivalent to interactions between drugs and their targets, so we make sure to differentiate between them."
   ]
  },
  {
   "cell_type": "code",
   "execution_count": 21,
   "metadata": {},
   "outputs": [],
   "source": [
    "edge_type = []\n",
    "for n1, n2 in edge_index.T:\n",
    "    edge_type.append(EdgeType.from_nodes(node_type[n1], node_type[n2]))"
   ]
  },
  {
   "cell_type": "code",
   "execution_count": 22,
   "metadata": {},
   "outputs": [
    {
     "data": {
      "text/plain": [
       "1    97028\n",
       "3    14719\n",
       "2    14719\n",
       "dtype: int64"
      ]
     },
     "execution_count": 22,
     "metadata": {},
     "output_type": "execute_result"
    }
   ],
   "source": [
    "pd.Series.value_counts(edge_type)"
   ]
  },
  {
   "cell_type": "markdown",
   "metadata": {},
   "source": [
    "Notice that there is the same number of edges of types 2 and 3. This is because one of these corresponds to drug-gene and the other to gene-drug edges. Because we cast our graph to an undirected graph, this makes perfect sense."
   ]
  },
  {
   "cell_type": "code",
   "execution_count": 23,
   "metadata": {},
   "outputs": [],
   "source": [
    "edge_type = torch.LongTensor(edge_type)"
   ]
  },
  {
   "cell_type": "markdown",
   "metadata": {},
   "source": [
    "## Prepare data set\n",
    "\n",
    "As in any machine learning task, we split our data set into a training and validation set. In _torch_geometric_, it is easiest to define boolean masks to indicate which edges belong into each set. Why not use integer indices? Because we can easily attach boolean masks to a _torch_geometric_ `pyg.data.Data` object, which will be indexed properly during mini-batching. Indexing the masks is only possible if their shape matches that of the `edge_index`, so a boolean mask is the way to go."
   ]
  },
  {
   "cell_type": "code",
   "execution_count": 24,
   "metadata": {},
   "outputs": [],
   "source": [
    "from sklearn.model_selection import train_test_split"
   ]
  },
  {
   "cell_type": "code",
   "execution_count": 25,
   "metadata": {},
   "outputs": [
    {
     "data": {
      "text/plain": [
       "(tensor([True, True, True,  ..., True, True, True]),\n",
       " tensor([False, False, False,  ..., False, False, False]))"
      ]
     },
     "execution_count": 25,
     "metadata": {},
     "output_type": "execute_result"
    }
   ],
   "source": [
    "indices = torch.arange(edge_index.shape[1])\n",
    "train_idx, val_idx = train_test_split(indices, test_size=0.01)\n",
    "train_mask, val_mask = torch.zeros_like(indices).bool(), torch.zeros_like(indices).bool()\n",
    "train_mask[train_idx] = 1\n",
    "val_mask[val_idx] = 1\n",
    "train_mask, val_mask"
   ]
  },
  {
   "cell_type": "markdown",
   "metadata": {},
   "source": [
    "Because our nodes have no additional features, we generally use a one-hot encoding as features to our model. Obviously, creating a dense identity matrix is very memory-inefficient, and we will quickly run out of memory when working with larger graphs, and unfortunately, `torch_geometric` doesn't yet fully support sparse matrices. So, when dealing with larger graphs, we often use random features instead."
   ]
  },
  {
   "cell_type": "code",
   "execution_count": 26,
   "metadata": {},
   "outputs": [
    {
     "name": "stderr",
     "output_type": "stream",
     "text": [
      "WARNING:root:The number of nodes in your data object can only be inferred by its edge indices, and hence may result in unexpected batch-wise behavior, e.g., in case there exists isolated nodes. Please consider explicitly setting the number of nodes for this data object by assigning it to data.num_nodes.\n"
     ]
    },
    {
     "data": {
      "text/plain": [
       "Data(edge_index=[2, 126466], edge_type=[126466], train_mask=[126466], val_mask=[126466], x=[7064, 128])"
      ]
     },
     "execution_count": 26,
     "metadata": {},
     "output_type": "execute_result"
    }
   ],
   "source": [
    "data = pyg.data.Data(edge_index=edge_index, edge_type=edge_type, train_mask=train_mask, val_mask=val_mask)\n",
    "data.x = torch.randn(data.num_nodes, 128)\n",
    "data"
   ]
  },
  {
   "cell_type": "markdown",
   "metadata": {},
   "source": [
    "## Metapaths\n",
    "\n",
    "Our task in this notebook will be the same as in the `graph-attention` notebook -- predicting drug-drug interactions. However, this time, we have more information avalable. There may be several different ways as to determine how drugs interact with each other. We can encode these *different ways* into meta-paths: these are relations which we suspect might be useful for the prediction task. We'll use three meta-paths in this particular example: drug-drug, drug-drug-drug, and drug-gene-drug.\n",
    "\n",
    "Each one of these metapaths defines its own adjacency matrix. Because we are working with a relatively small data set, it is easy to obtain the meta-path adjacency matrix through simple matrix multiplication."
   ]
  },
  {
   "cell_type": "code",
   "execution_count": 27,
   "metadata": {},
   "outputs": [],
   "source": [
    "import torch_sparse"
   ]
  },
  {
   "cell_type": "code",
   "execution_count": 28,
   "metadata": {},
   "outputs": [],
   "source": [
    "metapaths = [\n",
    "    (NodeType.DRUG, NodeType.DRUG),\n",
    "    (NodeType.DRUG, NodeType.DRUG, NodeType.DRUG),\n",
    "    (NodeType.DRUG, NodeType.GENE, NodeType.DRUG),\n",
    "]"
   ]
  },
  {
   "cell_type": "code",
   "execution_count": 29,
   "metadata": {},
   "outputs": [
    {
     "data": {
      "text/plain": [
       "tensor([1, 2, 3])"
      ]
     },
     "execution_count": 29,
     "metadata": {},
     "output_type": "execute_result"
    }
   ],
   "source": [
    "unique_edge_types = edge_type.unique()\n",
    "unique_edge_types"
   ]
  },
  {
   "cell_type": "code",
   "execution_count": 30,
   "metadata": {},
   "outputs": [
    {
     "data": {
      "text/plain": [
       "{1: SparseTensor(row=tensor([   0,    0,    0,  ..., 1511, 1512, 1513]),\n",
       "              col=tensor([   1,    2,    9,  ..., 1011,  346,   45]),\n",
       "              size=(7652, 7652), nnz=97028, density=0.17%),\n",
       " 2: SparseTensor(row=tensor([   0,    0,    0,  ..., 7057, 7061, 7063]),\n",
       "              col=tensor([1539, 1631, 1926,  ..., 2813, 2415, 1529]),\n",
       "              size=(7652, 7652), nnz=14719, density=0.03%),\n",
       " 3: SparseTensor(row=tensor([1514, 1514, 1514,  ..., 7059, 7060, 7062]),\n",
       "              col=tensor([  19,   57,  107,  ..., 1341, 2215, 1796]),\n",
       "              size=(7652, 7652), nnz=14719, density=0.03%)}"
      ]
     },
     "execution_count": 30,
     "metadata": {},
     "output_type": "execute_result"
    }
   ],
   "source": [
    "adjs = {}\n",
    "for et in unique_edge_types:\n",
    "    mask = edge_type == et\n",
    "    row, col = edge_index[:, mask]\n",
    "    adj = torch_sparse.SparseTensor(row=row, col=col, sparse_sizes=(num_nodes, num_nodes))\n",
    "    adjs[int(et)] = adj\n",
    "adjs"
   ]
  },
  {
   "cell_type": "code",
   "execution_count": 31,
   "metadata": {},
   "outputs": [
    {
     "data": {
      "text/plain": [
       "[SparseTensor(row=tensor([   0,    0,    0,  ..., 1513, 1513, 1513]),\n",
       "              col=tensor([   0,    1,    2,  ..., 1313, 1418, 1513]),\n",
       "              size=(7652, 7652), nnz=1190752, density=2.03%),\n",
       " SparseTensor(row=tensor([   0,    0,    0,  ..., 1513, 1513, 1513]),\n",
       "              col=tensor([   0,    1,    2,  ..., 1481, 1498, 1500]),\n",
       "              size=(7652, 7652), nnz=2103646, density=3.59%),\n",
       " SparseTensor(row=tensor([   0,    0,    0,  ..., 1513, 1513, 1513]),\n",
       "              col=tensor([   0,    1,    2,  ..., 6726, 6740, 6919]),\n",
       "              size=(7652, 7652), nnz=2071697, density=3.54%)]"
      ]
     },
     "execution_count": 31,
     "metadata": {},
     "output_type": "execute_result"
    }
   ],
   "source": [
    "mp_adjs = []\n",
    "for metapath in metapaths:\n",
    "    mp_adj = adjs[metapath[0]]\n",
    "    for idx in range(len(metapath) - 1):\n",
    "        mp_adj @= adjs[EdgeType.from_nodes(metapath[idx], metapath[idx + 1])]\n",
    "    \n",
    "    mp_adjs.append(mp_adj)\n",
    "mp_adjs"
   ]
  },
  {
   "cell_type": "code",
   "execution_count": 32,
   "metadata": {},
   "outputs": [
    {
     "data": {
      "text/plain": [
       "[tensor([[   0,    0,    0,  ..., 1513, 1513, 1513],\n",
       "         [   0,    1,    2,  ..., 1313, 1418, 1513]]),\n",
       " tensor([[   0,    0,    0,  ..., 1513, 1513, 1513],\n",
       "         [   0,    1,    2,  ..., 1481, 1498, 1500]]),\n",
       " tensor([[   0,    0,    0,  ..., 1513, 1513, 1513],\n",
       "         [   0,    1,    2,  ..., 6726, 6740, 6919]])]"
      ]
     },
     "execution_count": 32,
     "metadata": {},
     "output_type": "execute_result"
    }
   ],
   "source": [
    "mp_adjs = [torch.stack([mp_adj.storage.row(), mp_adj.storage.col()]) for mp_adj in mp_adjs]\n",
    "mp_adjs"
   ]
  },
  {
   "cell_type": "markdown",
   "metadata": {},
   "source": [
    "## Heterogeneous attention mechanism\n",
    "\n",
    "Our graph attention network that we saw in the previous notebook has no notion of metapaths or different edge types. We'll now take a look at heterogeneous graph attention networks (HAN), which are able to account for different edge types. The HAN builds on the GAT convolutional layers, so we'll copy our implementation from the previous notebook here."
   ]
  },
  {
   "cell_type": "code",
   "execution_count": 33,
   "metadata": {},
   "outputs": [],
   "source": [
    "import torch.nn.functional as F\n",
    "from torch_geometric.nn.inits import glorot, zeros\n",
    "\n",
    "\n",
    "class GATConv(pyg.nn.MessagePassing):\n",
    "    def __init__(self, in_features, out_features, k_heads=1, concat=True):\n",
    "        super().__init__(aggr=\"add\", node_dim=0)\n",
    "        self.in_features = in_features\n",
    "        self.out_features = out_features\n",
    "        self.k_heads = k_heads\n",
    "        self.concat = concat\n",
    "        \n",
    "        self.weight = torch.nn.Parameter(torch.Tensor(in_features, out_features * k_heads))\n",
    "        if concat:\n",
    "            self.bias = torch.nn.Parameter(torch.Tensor(k_heads * out_features))\n",
    "        else:\n",
    "            self.bias = torch.nn.Parameter(torch.Tensor(1, out_features))\n",
    "            \n",
    "        self.att_l = torch.nn.Parameter(torch.Tensor(1, k_heads, out_features))\n",
    "        self.att_r = torch.nn.Parameter(torch.Tensor(1, k_heads, out_features))\n",
    "        \n",
    "        self.reset_parameters()\n",
    "        \n",
    "    def reset_parameters(self):\n",
    "        glorot(self.weight)\n",
    "        glorot(self.att_l)\n",
    "        glorot(self.att_r)\n",
    "        zeros(self.bias)\n",
    "        \n",
    "    def forward(self, x, edge_index):\n",
    "        x_lin = (x @ self.weight).view(-1, self.k_heads, self.out_features)\n",
    "        \n",
    "        alpha_l = torch.sum(x_lin * self.att_l, dim=2)\n",
    "        alpha_r = torch.sum(x_lin * self.att_r, dim=2)\n",
    "        \n",
    "        out = self.propagate(edge_index, x=x_lin, alpha=(alpha_l, alpha_r))\n",
    "        \n",
    "        if self.concat:\n",
    "            out = out.view(-1, self.k_heads * self.out_features)\n",
    "        else:\n",
    "            out = out.mean(dim=1)\n",
    "        \n",
    "        out += self.bias\n",
    "        \n",
    "        return out\n",
    "        \n",
    "    def message(self, x_j, alpha_i, alpha_j, index):\n",
    "        alpha = alpha_i + alpha_j\n",
    "        alpha = F.leaky_relu(alpha, 0.2)\n",
    "        alpha = pyg.utils.softmax(alpha, index)\n",
    "        return alpha.unsqueeze(-1) * x_j"
   ]
  },
  {
   "cell_type": "markdown",
   "metadata": {},
   "source": [
    "### Semantic-level attention"
   ]
  },
  {
   "cell_type": "markdown",
   "metadata": {},
   "source": [
    "HAN's function in the following way: Each metapath specifies its own adjacency matrix, so the first step of the HAN is to apply GAT convolutions to every metapath adjacency matrix. If we have $r$ metapaths, we then obtain $r$ new representations for each node, as calculated the the GAT. The second step of a HAN convolution is to apply attention to these latent representations. Intuitively, we determine how important each metapath representation is to the overall node representation, and apply attention-weighted sums to them. This way, we aggregate the $r$ representations into a single one. The attention mechanism that we use is identical to the one in the previous notebook, so we won't delve into the implementation details."
   ]
  },
  {
   "cell_type": "code",
   "execution_count": 34,
   "metadata": {},
   "outputs": [
    {
     "data": {
      "text/plain": [
       "torch.Size([7064, 3, 24])"
      ]
     },
     "execution_count": 34,
     "metadata": {},
     "output_type": "execute_result"
    }
   ],
   "source": [
    "gat_convs = [GATConv(data.x.shape[1], 8, k_heads=3) for _ in unique_edge_types]\n",
    "embeddings = [conv(data.x, adj) for conv, adj in zip(gat_convs, mp_adjs)]\n",
    "embeddings = torch.stack(embeddings, dim=1)\n",
    "embeddings.shape"
   ]
  },
  {
   "cell_type": "code",
   "execution_count": 35,
   "metadata": {},
   "outputs": [
    {
     "data": {
      "text/plain": [
       "torch.Size([7064, 3, 24])"
      ]
     },
     "execution_count": 35,
     "metadata": {},
     "output_type": "execute_result"
    }
   ],
   "source": [
    "# Apply non-linearity\n",
    "embeddings = F.relu(embeddings)\n",
    "embeddings.shape"
   ]
  },
  {
   "cell_type": "code",
   "execution_count": 36,
   "metadata": {},
   "outputs": [],
   "source": [
    "att_in_features = embeddings.shape[2]  # 24\n",
    "att_out_features = 8"
   ]
  },
  {
   "cell_type": "code",
   "execution_count": 37,
   "metadata": {},
   "outputs": [],
   "source": [
    "weight = torch.Tensor(torch.rand(att_in_features, att_out_features))\n",
    "bias = torch.Tensor(torch.rand(1, att_out_features))"
   ]
  },
  {
   "cell_type": "code",
   "execution_count": 38,
   "metadata": {},
   "outputs": [
    {
     "data": {
      "text/plain": [
       "torch.Size([7064, 3, 8])"
      ]
     },
     "execution_count": 38,
     "metadata": {},
     "output_type": "execute_result"
    }
   ],
   "source": [
    "torch.sum(weight * embeddings.unsqueeze(-1), dim=2).shape"
   ]
  },
  {
   "cell_type": "code",
   "execution_count": 39,
   "metadata": {},
   "outputs": [
    {
     "data": {
      "text/plain": [
       "torch.Size([7064, 3, 8])"
      ]
     },
     "execution_count": 39,
     "metadata": {},
     "output_type": "execute_result"
    }
   ],
   "source": [
    "w = torch.sum(weight * embeddings.unsqueeze(-1), dim=2) + bias\n",
    "w = torch.tanh(w)\n",
    "w.shape"
   ]
  },
  {
   "cell_type": "code",
   "execution_count": 40,
   "metadata": {},
   "outputs": [],
   "source": [
    "q = torch.Tensor(torch.rand(1, 1, att_out_features))"
   ]
  },
  {
   "cell_type": "code",
   "execution_count": 41,
   "metadata": {},
   "outputs": [
    {
     "data": {
      "text/plain": [
       "torch.Size([7064, 3])"
      ]
     },
     "execution_count": 41,
     "metadata": {},
     "output_type": "execute_result"
    }
   ],
   "source": [
    "beta = torch.sum(q * w, dim=-1) / num_nodes\n",
    "beta = torch.softmax(beta, dim=1)\n",
    "beta.shape"
   ]
  },
  {
   "cell_type": "markdown",
   "metadata": {},
   "source": [
    "We now have metapath attention coefficients for every for every node. Now, the only thing that remains is to multiply the node-level features by these coefficients, and sum them up."
   ]
  },
  {
   "cell_type": "code",
   "execution_count": 42,
   "metadata": {},
   "outputs": [
    {
     "data": {
      "text/plain": [
       "torch.Size([7064, 24])"
      ]
     },
     "execution_count": 42,
     "metadata": {},
     "output_type": "execute_result"
    }
   ],
   "source": [
    "z = torch.sum(embeddings * beta.unsqueeze(-1), dim=1)\n",
    "z.shape"
   ]
  },
  {
   "cell_type": "code",
   "execution_count": 43,
   "metadata": {},
   "outputs": [
    {
     "data": {
      "text/plain": [
       "tensor([[0.5511, 0.0000, 0.6723,  ..., 0.4039, 0.4517, 0.6311],\n",
       "        [0.5430, 0.0000, 0.6260,  ..., 0.3315, 0.3913, 0.5933],\n",
       "        [0.5047, 0.0000, 0.4660,  ..., 0.4789, 0.4838, 0.6703],\n",
       "        ...,\n",
       "        [0.0708, 0.0000, 0.3480,  ..., 0.1039, 0.0797, 0.3816],\n",
       "        [0.0000, 0.0000, 0.0000,  ..., 0.0000, 0.0000, 0.0000],\n",
       "        [0.1956, 0.0000, 0.3130,  ..., 0.0000, 0.1280, 0.3197]],\n",
       "       grad_fn=<SumBackward1>)"
      ]
     },
     "execution_count": 43,
     "metadata": {},
     "output_type": "execute_result"
    }
   ],
   "source": [
    "z"
   ]
  },
  {
   "cell_type": "markdown",
   "metadata": {},
   "source": [
    "## Putting it into torch_geometric\n",
    "\n",
    "Again, it is easy to convert the code above into a reusable torch_geometric layer, which we will use from now on."
   ]
  },
  {
   "cell_type": "code",
   "execution_count": 44,
   "metadata": {},
   "outputs": [
    {
     "data": {
      "text/plain": [
       "torch.Size([7064, 24])"
      ]
     },
     "execution_count": 44,
     "metadata": {},
     "output_type": "execute_result"
    }
   ],
   "source": [
    "class HANConv(torch.nn.Module):\n",
    "    def __init__(self, in_channels, num_relations, out_channels, sem_att_channels, node_heads=3):\n",
    "        super().__init__()\n",
    "        self.in_channels = in_channels\n",
    "        self.num_relations = num_relations\n",
    "        self.out_channels = out_channels\n",
    "        self.sem_att_channels = sem_att_channels\n",
    "        self.node_heads = node_heads\n",
    "        \n",
    "        self.node_gats = torch.nn.ModuleList()\n",
    "        for _ in range(num_relations):\n",
    "            self.node_gats.append(GATConv(in_channels, out_channels, node_heads))\n",
    "        \n",
    "        self.W = torch.nn.Parameter(torch.Tensor(1, 1, out_channels * node_heads, sem_att_channels))\n",
    "        self.b = torch.nn.Parameter(torch.Tensor(1, 1, sem_att_channels))\n",
    "        self.q = torch.nn.Parameter(torch.Tensor(1, 1, sem_att_channels))\n",
    "        \n",
    "        self.reset_parameters()\n",
    "        \n",
    "    def reset_parameters(self):\n",
    "        glorot(self.W)\n",
    "        zeros(self.b)\n",
    "        glorot(self.q)\n",
    "        \n",
    "    def forward(self, x, metapaths):\n",
    "        # Calculate node-level attention representations\n",
    "        out = [gat(x, metapath) for gat, metapath in zip(self.node_gats, metapaths)]\n",
    "        out = torch.stack(out, dim=1).to(x.device)\n",
    "        \n",
    "        # Apply non-linearity\n",
    "        out = F.relu(out)\n",
    "        \n",
    "        # Aggregate node-leve representation using semantic level attention\n",
    "        w = torch.sum(self.W * out.unsqueeze(-1), dim=-2) + self.b\n",
    "        w = torch.tanh(w)\n",
    "        beta = torch.sum(self.q * w, dim=-1)\n",
    "        beta = torch.softmax(beta, dim=1)\n",
    "        \n",
    "        z = torch.sum(out * beta.unsqueeze(-1), dim=1)\n",
    "        \n",
    "        return z\n",
    "    \n",
    "conv = HANConv(data.x.shape[1], len(unique_edge_types), 8, 8, 3)\n",
    "conv(data.x, mp_adjs).shape"
   ]
  },
  {
   "cell_type": "markdown",
   "metadata": {},
   "source": [
    "## Learning\n",
    "\n",
    "Having implemented HAN convolutions, we can now build a full model, and fit it on our graph data."
   ]
  },
  {
   "cell_type": "code",
   "execution_count": 45,
   "metadata": {},
   "outputs": [],
   "source": [
    "from torch_geometric.utils import negative_sampling"
   ]
  },
  {
   "cell_type": "code",
   "execution_count": 46,
   "metadata": {},
   "outputs": [],
   "source": [
    "data.val_neg_edge_index = negative_sampling(data.edge_index, num_neg_samples=data.val_mask.sum())"
   ]
  },
  {
   "cell_type": "markdown",
   "metadata": {},
   "source": [
    "### Rebuild metapaths with only training edges"
   ]
  },
  {
   "cell_type": "code",
   "execution_count": 47,
   "metadata": {},
   "outputs": [],
   "source": [
    "metaf1_drugsths = [\n",
    "    (NodeType.DRUG, NodeType.DRUG),\n",
    "    (NodeType.DRUG, NodeType.DRUG, NodeType.DRUG),\n",
    "    (NodeType.DRUG, NodeType.GENE, NodeType.DRUG),\n",
    "    (NodeType.GENE, NodeType.DRUG, NodeType.GENE),\n",
    "]"
   ]
  },
  {
   "cell_type": "code",
   "execution_count": 48,
   "metadata": {},
   "outputs": [
    {
     "data": {
      "text/plain": [
       "tensor([[   0,    0,    0,  ..., 7061, 7062, 7063],\n",
       "        [   1,    2,    9,  ..., 2415, 1796, 1529]])"
      ]
     },
     "execution_count": 48,
     "metadata": {},
     "output_type": "execute_result"
    }
   ],
   "source": [
    "edge_index_train = data.edge_index[:, data.train_mask]\n",
    "edge_types_train = data.edge_type[data.train_mask]\n",
    "edge_index_train"
   ]
  },
  {
   "cell_type": "code",
   "execution_count": 49,
   "metadata": {},
   "outputs": [
    {
     "data": {
      "text/plain": [
       "tensor([1, 2, 3])"
      ]
     },
     "execution_count": 49,
     "metadata": {},
     "output_type": "execute_result"
    }
   ],
   "source": [
    "unique_edge_types = edge_types_train.unique()\n",
    "unique_edge_types"
   ]
  },
  {
   "cell_type": "code",
   "execution_count": 50,
   "metadata": {},
   "outputs": [
    {
     "data": {
      "text/plain": [
       "{1: SparseTensor(row=tensor([   0,    0,    0,  ..., 1511, 1512, 1513]),\n",
       "              col=tensor([   1,    2,    9,  ..., 1011,  346,   45]),\n",
       "              size=(7652, 7652), nnz=96085, density=0.16%),\n",
       " 2: SparseTensor(row=tensor([   0,    0,    0,  ..., 7057, 7061, 7063]),\n",
       "              col=tensor([1539, 1631, 1926,  ..., 2813, 2415, 1529]),\n",
       "              size=(7652, 7652), nnz=14535, density=0.02%),\n",
       " 3: SparseTensor(row=tensor([1514, 1514, 1514,  ..., 7059, 7060, 7062]),\n",
       "              col=tensor([  19,   57,  107,  ..., 1341, 2215, 1796]),\n",
       "              size=(7652, 7652), nnz=14581, density=0.02%)}"
      ]
     },
     "execution_count": 50,
     "metadata": {},
     "output_type": "execute_result"
    }
   ],
   "source": [
    "adjs = {}\n",
    "for et in unique_edge_types:\n",
    "    row, col = edge_index_train[:, edge_types_train == et]\n",
    "    adj = torch_sparse.SparseTensor(row=row, col=col, sparse_sizes=(num_nodes, num_nodes))\n",
    "    adjs[int(et)] = adj\n",
    "adjs"
   ]
  },
  {
   "cell_type": "code",
   "execution_count": 51,
   "metadata": {},
   "outputs": [
    {
     "data": {
      "text/plain": [
       "[SparseTensor(row=tensor([   0,    0,    0,  ..., 1513, 1513, 1513]),\n",
       "              col=tensor([   0,    1,    2,  ..., 1313, 1418, 1513]),\n",
       "              size=(7652, 7652), nnz=1185869, density=2.03%),\n",
       " SparseTensor(row=tensor([   0,    0,    0,  ..., 1513, 1513, 1513]),\n",
       "              col=tensor([   0,    1,    2,  ..., 1481, 1498, 1500]),\n",
       "              size=(7652, 7652), nnz=2101128, density=3.59%),\n",
       " SparseTensor(row=tensor([   0,    0,    0,  ..., 1513, 1513, 1513]),\n",
       "              col=tensor([   0,    1,    2,  ..., 6726, 6740, 6919]),\n",
       "              size=(7652, 7652), nnz=2053903, density=3.51%)]"
      ]
     },
     "execution_count": 51,
     "metadata": {},
     "output_type": "execute_result"
    }
   ],
   "source": [
    "mp_adjs = []\n",
    "for metapath in metapaths:\n",
    "    mp_adj = adjs[metapath[0]]\n",
    "    for idx in range(len(metapath) - 1):\n",
    "        mp_adj @= adjs[EdgeType.from_nodes(metapath[idx], metapath[idx + 1])]\n",
    "    \n",
    "    mp_adjs.append(mp_adj)\n",
    "mp_adjs"
   ]
  },
  {
   "cell_type": "code",
   "execution_count": 52,
   "metadata": {},
   "outputs": [
    {
     "data": {
      "text/plain": [
       "[tensor([[   0,    0,    0,  ..., 1513, 1513, 1513],\n",
       "         [   0,    1,    2,  ..., 1313, 1418, 1513]]),\n",
       " tensor([[   0,    0,    0,  ..., 1513, 1513, 1513],\n",
       "         [   0,    1,    2,  ..., 1481, 1498, 1500]]),\n",
       " tensor([[   0,    0,    0,  ..., 1513, 1513, 1513],\n",
       "         [   0,    1,    2,  ..., 6726, 6740, 6919]])]"
      ]
     },
     "execution_count": 52,
     "metadata": {},
     "output_type": "execute_result"
    }
   ],
   "source": [
    "mp_adjs = [torch.stack([mp_adj.storage.row(), mp_adj.storage.col()]) for mp_adj in mp_adjs]\n",
    "mp_adjs"
   ]
  },
  {
   "cell_type": "code",
   "execution_count": 53,
   "metadata": {},
   "outputs": [
    {
     "data": {
      "text/plain": [
       "device(type='cuda')"
      ]
     },
     "execution_count": 53,
     "metadata": {},
     "output_type": "execute_result"
    }
   ],
   "source": [
    "device = torch.device(\"cuda\" if torch.cuda.is_available() else \"cpu\")\n",
    "device"
   ]
  },
  {
   "cell_type": "code",
   "execution_count": 54,
   "metadata": {},
   "outputs": [],
   "source": [
    "class Encoder(torch.nn.Module):\n",
    "    def __init__(self, in_dim, num_relations, hidden_dim, out_dim, node_heads=4):\n",
    "        super().__init__()\n",
    "        self.conv1 = HANConv(in_dim, num_relations, hidden_dim, sem_att_channels=8, node_heads=node_heads)\n",
    "        self.conv2 = HANConv(hidden_dim * node_heads, num_relations, out_dim, sem_att_channels=8, node_heads=node_heads)\n",
    "    \n",
    "    def forward(self, x, metapaths):\n",
    "        x = F.relu(self.conv1(x, metapaths))\n",
    "        return self.conv2(x, metapaths)"
   ]
  },
  {
   "cell_type": "code",
   "execution_count": 55,
   "metadata": {},
   "outputs": [],
   "source": [
    "for i in range(len(mp_adjs)):\n",
    "    mp_adjs[i] = mp_adjs[i].to(device)"
   ]
  },
  {
   "cell_type": "code",
   "execution_count": 56,
   "metadata": {},
   "outputs": [],
   "source": [
    "from torch_geometric.nn import GAE"
   ]
  },
  {
   "cell_type": "code",
   "execution_count": 57,
   "metadata": {},
   "outputs": [
    {
     "data": {
      "text/plain": [
       "GAE(\n",
       "  (encoder): Encoder(\n",
       "    (conv1): HANConv(\n",
       "      (node_gats): ModuleList(\n",
       "        (0): GATConv()\n",
       "        (1): GATConv()\n",
       "        (2): GATConv()\n",
       "      )\n",
       "    )\n",
       "    (conv2): HANConv(\n",
       "      (node_gats): ModuleList(\n",
       "        (0): GATConv()\n",
       "        (1): GATConv()\n",
       "        (2): GATConv()\n",
       "      )\n",
       "    )\n",
       "  )\n",
       "  (decoder): InnerProductDecoder()\n",
       ")"
      ]
     },
     "execution_count": 57,
     "metadata": {},
     "output_type": "execute_result"
    }
   ],
   "source": [
    "model = GAE(Encoder(data.num_features, len(mp_adjs), hidden_dim=8, out_dim=8, node_heads=8)).to(device)\n",
    "model"
   ]
  },
  {
   "cell_type": "code",
   "execution_count": 58,
   "metadata": {},
   "outputs": [],
   "source": [
    "optimizer = torch.optim.Adam(model.parameters(), lr=0.01)"
   ]
  },
  {
   "cell_type": "code",
   "execution_count": 59,
   "metadata": {},
   "outputs": [
    {
     "name": "stdout",
     "output_type": "stream",
     "text": [
      "Epoch: 010, Training loss: 0.8464, Validation loss: 0.8409, AUC: 0.9821, AP: 0.9388\n",
      "Epoch: 020, Training loss: 0.8430, Validation loss: 0.8608, AUC: 0.9846, AP: 0.9510\n",
      "Epoch: 030, Training loss: 0.8323, Validation loss: 0.8390, AUC: 0.9905, AP: 0.9826\n",
      "Epoch: 040, Training loss: 0.8303, Validation loss: 0.8412, AUC: 0.9906, AP: 0.9805\n",
      "Epoch: 050, Training loss: 0.8224, Validation loss: 0.8135, AUC: 0.9932, AP: 0.9864\n",
      "Epoch: 060, Training loss: 0.8185, Validation loss: 0.8118, AUC: 0.9933, AP: 0.9875\n",
      "Epoch: 070, Training loss: 0.8176, Validation loss: 0.8324, AUC: 0.9938, AP: 0.9887\n",
      "Epoch: 080, Training loss: 0.8107, Validation loss: 0.8092, AUC: 0.9936, AP: 0.9890\n",
      "Epoch: 090, Training loss: 0.8066, Validation loss: 0.8066, AUC: 0.9949, AP: 0.9912\n",
      "Epoch: 100, Training loss: 0.8024, Validation loss: 0.8218, AUC: 0.9951, AP: 0.9894\n",
      "Epoch: 110, Training loss: 0.8020, Validation loss: 0.8154, AUC: 0.9952, AP: 0.9903\n",
      "Epoch: 120, Training loss: 0.8011, Validation loss: 0.8056, AUC: 0.9963, AP: 0.9939\n",
      "Epoch: 130, Training loss: 0.8153, Validation loss: 0.8266, AUC: 0.9950, AP: 0.9916\n",
      "Epoch: 140, Training loss: 0.8025, Validation loss: 0.8053, AUC: 0.9959, AP: 0.9931\n",
      "Epoch: 150, Training loss: 0.7957, Validation loss: 0.8229, AUC: 0.9962, AP: 0.9942\n"
     ]
    }
   ],
   "source": [
    "training_losses, validation_losses, val_auc, val_ap = [], [], [], []\n",
    "\n",
    "for epoch in range(150):\n",
    "    model.train()\n",
    "    optimizer.zero_grad()\n",
    "    \n",
    "    # As in the GAT notebook, we only care about predicting drug-drug edges\n",
    "    drug_drug_mask = data.edge_type == EdgeType.DRUG_DRUG\n",
    "    train_pos_edge_index = data.edge_index[:, data.train_mask & drug_drug_mask].to(device)\n",
    "    x = data.x.to(device)\n",
    "    \n",
    "    # z holds the node embeddings\n",
    "    z = model.encode(x, mp_adjs)\n",
    "    # while the link prediction is performed inside this handy model.recon_loss function\n",
    "    loss = model.recon_loss(z, train_pos_edge_index)\n",
    "    training_loss = loss.item()\n",
    "    loss.backward()\n",
    "    optimizer.step()\n",
    "\n",
    "    model.eval()\n",
    "    \n",
    "    # To validate our model, we first compute node embeddings for each node using the training\n",
    "    # set edges.\n",
    "    train_pos_edge_index = data.edge_index[:, data.train_mask & drug_drug_mask].to(device)\n",
    "    # Our model's predictions will then be checked against the true, existing validation edges\n",
    "    # stored in val_pos_edge_index\n",
    "    val_pos_edge_index = data.edge_index[:, data.val_mask & drug_drug_mask].to(device)\n",
    "\n",
    "    with torch.no_grad():\n",
    "        z = model.encode(x, mp_adjs)\n",
    "        validation_loss = model.recon_loss(z, val_pos_edge_index).item()\n",
    "    \n",
    "    auc, ap = model.test(z, val_pos_edge_index, data.val_neg_edge_index)\n",
    "    \n",
    "    training_losses.append(training_loss)\n",
    "    validation_losses.append(validation_loss)\n",
    "    val_auc.append(auc)\n",
    "    val_ap.append(ap)\n",
    "    \n",
    "    if (epoch + 1) % 10 == 0:\n",
    "        print(\"Epoch: {:03d}, Training loss: {:.4f}, Validation loss: {:.4f}, AUC: {:.4f}, AP: {:.4f}\".format(\n",
    "            epoch + 1, training_loss, validation_loss, auc, ap))"
   ]
  },
  {
   "cell_type": "code",
   "execution_count": 60,
   "metadata": {},
   "outputs": [],
   "source": [
    "import matplotlib.pyplot as plt\n",
    "%matplotlib inline"
   ]
  },
  {
   "cell_type": "code",
   "execution_count": 61,
   "metadata": {},
   "outputs": [
    {
     "data": {
      "text/plain": [
       "[<matplotlib.lines.Line2D at 0x7fa98ae2a550>]"
      ]
     },
     "execution_count": 61,
     "metadata": {},
     "output_type": "execute_result"
    },
    {
     "data": {
      "image/png": "[encoded data removed]",
      "text/plain": [
       "<Figure size 1728x288 with 3 Axes>"
      ]
     },
     "metadata": {
      "needs_background": "light"
     },
     "output_type": "display_data"
    }
   ],
   "source": [
    "fig, ax = plt.subplots(ncols=3, figsize=(24, 4))\n",
    "\n",
    "ax[0].set_title(\"Log loss\")\n",
    "ax[0].plot(training_losses, label=\"Train\")\n",
    "ax[0].plot(validation_losses, label=\"Validation\")\n",
    "ax[0].legend()\n",
    "\n",
    "ax[1].set_title(\"AUC score\")\n",
    "ax[1].plot(val_auc)\n",
    "\n",
    "ax[2].set_title(\"Average precision\")\n",
    "ax[2].plot(val_ap)"
   ]
  },
  {
   "cell_type": "markdown",
   "metadata": {},
   "source": [
    "#### Inspect node embeddings\n",
    "\n",
    "Now that our model is trained, we can visualize the node embeddings. We decided that our node embeddings are 64-dimensional (8 dimensions * 8 heads). We can easily convert this to a 2D visualization using any visualization algorithm. We will not go into any interpretation here, as the point of the notebook is to demonstrate how to actually fit these models."
   ]
  },
  {
   "cell_type": "code",
   "execution_count": 62,
   "metadata": {},
   "outputs": [
    {
     "data": {
      "text/plain": [
       "7064"
      ]
     },
     "execution_count": 62,
     "metadata": {},
     "output_type": "execute_result"
    }
   ],
   "source": [
    "node_types = {}\n",
    "for i in range(len(data.edge_type)):\n",
    "    n1, n2 = data.edge_index[:, i]\n",
    "    et = data.edge_type[i]\n",
    "    if et == EdgeType.DRUG_DRUG:\n",
    "        node_types[int(n1)] = NodeType.DRUG\n",
    "        node_types[int(n2)] = NodeType.DRUG\n",
    "    elif et == EdgeType.DRUG_GENE:\n",
    "        node_types[int(n1)] = NodeType.DRUG\n",
    "        node_types[int(n2)] = NodeType.GENE\n",
    "    elif et == EdgeType.GENE_DRUG:\n",
    "        node_types[int(n1)] = NodeType.GENE\n",
    "        node_types[int(n2)] = NodeType.DRUG\n",
    "    \n",
    "len(node_types)"
   ]
  },
  {
   "cell_type": "code",
   "execution_count": 63,
   "metadata": {},
   "outputs": [
    {
     "data": {
      "text/plain": [
       "array([1, 1, 1, ..., 1, 2, 1])"
      ]
     },
     "execution_count": 63,
     "metadata": {},
     "output_type": "execute_result"
    }
   ],
   "source": [
    "node_types = np.array([node_types[i] for i in range(len(node_types))])\n",
    "node_types"
   ]
  },
  {
   "cell_type": "code",
   "execution_count": 64,
   "metadata": {},
   "outputs": [
    {
     "data": {
      "text/plain": [
       "1    4937\n",
       "2    2127\n",
       "dtype: int64"
      ]
     },
     "execution_count": 64,
     "metadata": {},
     "output_type": "execute_result"
    }
   ],
   "source": [
    "pd.Series.value_counts(node_types)"
   ]
  },
  {
   "cell_type": "code",
   "execution_count": 65,
   "metadata": {},
   "outputs": [
    {
     "data": {
      "text/plain": [
       "array([[0.0608276 , 0.        , 0.00107447, ..., 0.        , 0.0007066 ,\n",
       "        0.04620501],\n",
       "       [0.0422214 , 0.        , 0.00108223, ..., 0.        , 0.00070706,\n",
       "        0.06555749],\n",
       "       [0.04572241, 0.        , 0.0009964 , ..., 0.        , 0.00065476,\n",
       "        0.06131272],\n",
       "       ...,\n",
       "       [0.00111852, 0.        , 0.0021924 , ..., 0.        , 0.00137599,\n",
       "        0.        ],\n",
       "       [0.00101082, 0.        , 0.00222677, ..., 0.        , 0.00145768,\n",
       "        0.        ],\n",
       "       [0.00106103, 0.        , 0.00200004, ..., 0.        , 0.00142089,\n",
       "        0.        ]], dtype=float32)"
      ]
     },
     "execution_count": 65,
     "metadata": {},
     "output_type": "execute_result"
    }
   ],
   "source": [
    "embedding = z.cpu().detach().numpy()\n",
    "embedding = embedding[node_types == NodeType.DRUG]\n",
    "embedding"
   ]
  },
  {
   "cell_type": "code",
   "execution_count": 66,
   "metadata": {},
   "outputs": [
    {
     "data": {
      "text/plain": [
       "(4937, 64)"
      ]
     },
     "execution_count": 66,
     "metadata": {},
     "output_type": "execute_result"
    }
   ],
   "source": [
    "embedding.shape"
   ]
  },
  {
   "cell_type": "code",
   "execution_count": 67,
   "metadata": {},
   "outputs": [],
   "source": [
    "from openTSNE import TSNE\n",
    "\n",
    "tsne_embedding = TSNE(exaggeration=1, n_jobs=4).fit(embedding)"
   ]
  },
  {
   "cell_type": "code",
   "execution_count": 68,
   "metadata": {},
   "outputs": [
    {
     "data": {
      "text/plain": [
       "<matplotlib.collections.PathCollection at 0x7fa98b179280>"
      ]
     },
     "execution_count": 68,
     "metadata": {},
     "output_type": "execute_result"
    },
    {
     "data": {
      "image/png": "[encoded data removed]",
      "text/plain": [
       "<Figure size 576x576 with 1 Axes>"
      ]
     },
     "metadata": {
      "needs_background": "light"
     },
     "output_type": "display_data"
    }
   ],
   "source": [
    "fig, ax = plt.subplots(figsize=(8, 8))\n",
    "ax.scatter(tsne_embedding[:, 0], tsne_embedding[:, 1], c=\"tab:blue\", s=3)"
   ]
  },
  {
   "cell_type": "code",
   "execution_count": null,
   "metadata": {},
   "outputs": [],
   "source": []
  }
 ],
 "metadata": {
  "kernelspec": {
   "display_name": "Python 3",
   "language": "python",
   "name": "python3"
  },
  "language_info": {
   "codemirror_mode": {
    "name": "ipython",
    "version": 3
   },
   "file_extension": ".py",
   "mimetype": "text/x-python",
   "name": "python",
   "nbconvert_exporter": "python",
   "pygments_lexer": "ipython3",
   "version": "3.8.5"
  }
 },
 "nbformat": 4,
 "nbformat_minor": 4
}
