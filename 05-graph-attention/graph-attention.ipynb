{
 "cells": [
  {
   "cell_type": "markdown",
   "metadata": {},
   "source": [
    "## Graph attention networks\n",
    "\n",
    "By Pavlin Poličar 4.10.2020\n",
    "\n",
    "This notebook is meant to be followed step-by-step and explains how to implement the graph attention mechanism from scratch. Doing so, we also show exactly what _torch_geometric_ does under the hood, and how it simplifies implementations of message passing algorithms."
   ]
  },
  {
   "cell_type": "code",
   "execution_count": 1,
   "metadata": {},
   "outputs": [],
   "source": [
    "from math import comb\n",
    "\n",
    "import numpy as np\n",
    "import networkx as nx\n",
    "from sklearn.model_selection import train_test_split\n",
    "\n",
    "import torch\n",
    "import torch.nn.functional as F\n",
    "\n",
    "import torch_geometric as pyg\n",
    "from torch_geometric.nn import GCNConv, GAE\n",
    "from torch_geometric.utils import negative_sampling\n",
    "\n",
    "import matplotlib.pyplot as plt\n",
    "%matplotlib inline"
   ]
  },
  {
   "cell_type": "markdown",
   "metadata": {},
   "source": [
    "## Download and load data"
   ]
  },
  {
   "cell_type": "markdown",
   "metadata": {},
   "source": [
    "We will use a small graph of interactions between FDA-approved drugs from _Stanford Biomedical Network Dataset Collection_ (ChCh-Miner) for our simple example."
   ]
  },
  {
   "cell_type": "code",
   "execution_count": 2,
   "metadata": {},
   "outputs": [
    {
     "name": "stdout",
     "output_type": "stream",
     "text": [
      "--2020-10-13 10:45:08--  http://snap.stanford.edu/biodata/datasets/10001/files/ChCh-Miner_durgbank-chem-chem.tsv.gz\n",
      "Resolving snap.stanford.edu (snap.stanford.edu)... 171.64.75.80\n",
      "Connecting to snap.stanford.edu (snap.stanford.edu)|171.64.75.80|:80... connected.\n",
      "HTTP request sent, awaiting response... 200 OK\n",
      "Length: 206802 (202K) [application/x-gzip]\n",
      "Saving to: ‘data/ChCh-Miner_durgbank-chem-chem.tsv.gz’\n",
      "\n",
      "data/ChCh-Miner_dur 100%[===================>] 201.96K   170KB/s    in 1.2s    \n",
      "\n",
      "2020-10-13 10:45:10 (170 KB/s) - ‘data/ChCh-Miner_durgbank-chem-chem.tsv.gz’ saved [206802/206802]\n",
      "\n",
      "gzip: data/ChCh-Miner_durgbank-chem-chem.tsv already exists;\tnot overwritten\n",
      "yes: standard output: Broken pipe\n"
     ]
    }
   ],
   "source": [
    "!mkdir -p data\n",
    "!wget http://snap.stanford.edu/biodata/datasets/10001/files/ChCh-Miner_durgbank-chem-chem.tsv.gz -O data/ChCh-Miner_durgbank-chem-chem.tsv.gz\n",
    "!yes | gunzip data/ChCh-Miner_durgbank-chem-chem.tsv.gz"
   ]
  },
  {
   "cell_type": "code",
   "execution_count": 3,
   "metadata": {},
   "outputs": [
    {
     "name": "stdout",
     "output_type": "stream",
     "text": [
      "DB00862\tDB00966\n",
      "DB00575\tDB00806\n",
      "DB01242\tDB08893\n",
      "DB01151\tDB08883\n",
      "DB01235\tDB01275\n",
      "DB00018\tDB00333\n",
      "DB00201\tDB01609\n",
      "DB00712\tDB01418\n",
      "DB01576\tDB04842\n",
      "DB01609\tDB06212\n"
     ]
    }
   ],
   "source": [
    "!head data/ChCh-Miner_durgbank-chem-chem.tsv"
   ]
  },
  {
   "cell_type": "markdown",
   "metadata": {},
   "source": [
    "_torch_geometric_ operates on edge lists of node indices (integers), but in the data set, drugs are encoded using an idenfier e.g. DB00966. So we will create a mapping from these IDs to ints."
   ]
  },
  {
   "cell_type": "code",
   "execution_count": 4,
   "metadata": {},
   "outputs": [
    {
     "name": "stdout",
     "output_type": "stream",
     "text": [
      "48,514 interactions\n"
     ]
    }
   ],
   "source": [
    "drug_dict, edge_index = {}, []\n",
    "drug_index = 0  # we will use this to assign numbers to drugs\n",
    "\n",
    "with open(\"data/ChCh-Miner_durgbank-chem-chem.tsv\") as f:\n",
    "    for line in f:\n",
    "        line = line.rstrip()\n",
    "        d1, d2 = line.split(\"\\t\")\n",
    "        \n",
    "        if d1 not in drug_dict:\n",
    "            drug_dict[d1] = drug_index\n",
    "            drug_index += 1\n",
    "        if d2 not in drug_dict:\n",
    "            drug_dict[d2] = drug_index\n",
    "            drug_index += 1\n",
    "        \n",
    "        edge_index.append([drug_dict[d1], drug_dict[d2]])\n",
    "\n",
    "print(f\"{len(edge_index):,} interactions\")"
   ]
  },
  {
   "cell_type": "code",
   "execution_count": 5,
   "metadata": {},
   "outputs": [
    {
     "data": {
      "text/plain": [
       "tensor([[   0,    2,    4,  ..., 1057,  361,  455],\n",
       "        [   1,    3,    5,  ...,  359,  626,  269]])"
      ]
     },
     "execution_count": 5,
     "metadata": {},
     "output_type": "execute_result"
    }
   ],
   "source": [
    "edge_index = torch.LongTensor(edge_index).T\n",
    "edge_index"
   ]
  },
  {
   "cell_type": "markdown",
   "metadata": {},
   "source": [
    "We now has something that _torch_geometric_ considers a graph."
   ]
  },
  {
   "cell_type": "markdown",
   "metadata": {},
   "source": [
    "### Examine graph"
   ]
  },
  {
   "cell_type": "code",
   "execution_count": 6,
   "metadata": {},
   "outputs": [
    {
     "name": "stdout",
     "output_type": "stream",
     "text": [
      "Sparsity: 0.06\n"
     ]
    }
   ],
   "source": [
    "print(\"Sparsity: %.2f\" % (edge_index.size(1) / comb(len(edge_index[0].unique()), 2)))"
   ]
  },
  {
   "cell_type": "code",
   "execution_count": 7,
   "metadata": {},
   "outputs": [
    {
     "data": {
      "text/plain": [
       "False"
      ]
     },
     "execution_count": 7,
     "metadata": {},
     "output_type": "execute_result"
    }
   ],
   "source": [
    "pyg.utils.is_undirected(edge_index)"
   ]
  },
  {
   "cell_type": "markdown",
   "metadata": {},
   "source": [
    "Even though the graph is undirected, we're going to cast it to a directed graph, so this will be one less piece of complexity we will have to worry about."
   ]
  },
  {
   "cell_type": "code",
   "execution_count": 8,
   "metadata": {},
   "outputs": [],
   "source": [
    "edge_index = pyg.utils.to_undirected(edge_index)"
   ]
  },
  {
   "cell_type": "code",
   "execution_count": 9,
   "metadata": {},
   "outputs": [
    {
     "name": "stdout",
     "output_type": "stream",
     "text": [
      "1,514 nodes\n"
     ]
    }
   ],
   "source": [
    "print(f\"{len(edge_index.unique()):,} nodes\")"
   ]
  },
  {
   "cell_type": "markdown",
   "metadata": {},
   "source": [
    "### Extract LCC\n",
    "\n",
    "Many graph-based learning techniques cannot operate on disconnected graphs, so it is standard practice to operate on the largest connected component (LCC). The easiest way to exctract the LCC is to use _networkx_, a popular pure Python library for network analysis."
   ]
  },
  {
   "cell_type": "code",
   "execution_count": 10,
   "metadata": {},
   "outputs": [
    {
     "name": "stderr",
     "output_type": "stream",
     "text": [
      "WARNING:root:The number of nodes in your data object can only be inferred by its edge indices, and hence may result in unexpected batch-wise behavior, e.g., in case there exists isolated nodes. Please consider explicitly setting the number of nodes for this data object by assigning it to data.num_nodes.\n"
     ]
    },
    {
     "data": {
      "text/plain": [
       "<networkx.classes.graph.Graph at 0x7f8ce15e56d0>"
      ]
     },
     "execution_count": 10,
     "metadata": {},
     "output_type": "execute_result"
    }
   ],
   "source": [
    "data = pyg.data.Data(edge_index=edge_index)\n",
    "nx_data = pyg.utils.to_networkx(data, to_undirected=True)\n",
    "nx_data"
   ]
  },
  {
   "cell_type": "code",
   "execution_count": 11,
   "metadata": {},
   "outputs": [
    {
     "name": "stdout",
     "output_type": "stream",
     "text": [
      "Graph contains 3 connected components\n"
     ]
    }
   ],
   "source": [
    "connected_components = list(nx.connected_components(nx_data))\n",
    "print(f\"Graph contains {len(connected_components)} connected components\")"
   ]
  },
  {
   "cell_type": "code",
   "execution_count": 12,
   "metadata": {},
   "outputs": [
    {
     "name": "stdout",
     "output_type": "stream",
     "text": [
      "1,510 nodes in LCC\n"
     ]
    }
   ],
   "source": [
    "lcc_nodes = max(connected_components, key=len)\n",
    "lcc = nx_data.subgraph(lcc_nodes)\n",
    "print(f\"{lcc.number_of_nodes():,} nodes in LCC\")"
   ]
  },
  {
   "cell_type": "markdown",
   "metadata": {},
   "source": [
    "We've now extracted the LCC of our graph and lost 4 nodes. Let's convert this back into a torch edge list, so we can start fitting our models."
   ]
  },
  {
   "cell_type": "code",
   "execution_count": 13,
   "metadata": {},
   "outputs": [
    {
     "data": {
      "text/plain": [
       "tensor([[   0,    0,    0,  ..., 1507, 1508, 1509],\n",
       "        [   1,    2,    9,  ..., 1011,  346,   45]])"
      ]
     },
     "execution_count": 13,
     "metadata": {},
     "output_type": "execute_result"
    }
   ],
   "source": [
    "edge_index = pyg.utils.from_networkx(lcc).edge_index\n",
    "edge_index"
   ]
  },
  {
   "cell_type": "markdown",
   "metadata": {},
   "source": [
    "## Prepare data set\n",
    "\n",
    "As in any machine learning task, we split our data set into a training and validation set. In _torch_geometric_, it is easiest to define boolean masks to indicate which edges belong into each set. Why not use integer indices? Because we can easily attach boolean masks to a _torch_geometric_ `pyg.data.Data` object, which will be indexed properly during mini-batching. Indexing the masks is only possible if their shape matches that of the `edge_index`, so a boolean mask is the way to go."
   ]
  },
  {
   "cell_type": "code",
   "execution_count": 14,
   "metadata": {},
   "outputs": [
    {
     "data": {
      "text/plain": [
       "(tensor([True, True, True,  ..., True, True, True]),\n",
       " tensor([False, False, False,  ..., False, False, False]))"
      ]
     },
     "execution_count": 14,
     "metadata": {},
     "output_type": "execute_result"
    }
   ],
   "source": [
    "indices = torch.arange(edge_index.shape[1])\n",
    "train_idx, val_idx = train_test_split(indices, test_size=0.01)\n",
    "train_mask, val_mask = torch.zeros_like(indices).bool(), torch.zeros_like(indices).bool()\n",
    "train_mask[train_idx] = 1\n",
    "val_mask[val_idx] = 1\n",
    "train_mask, val_mask"
   ]
  },
  {
   "cell_type": "markdown",
   "metadata": {},
   "source": [
    "Because our nodes have no additional features, we generally use a one-hot encoding as features to our model. Obviously, creating a dense identity matrix is very memory-inefficient, and we will quickly run out of memory when working with larger graphs, and unfortunately, `torch_geometric` doesn't yet fully support sparse matrices. So, when dealing with larger graphs, we often use random features instead."
   ]
  },
  {
   "cell_type": "code",
   "execution_count": 15,
   "metadata": {},
   "outputs": [
    {
     "name": "stderr",
     "output_type": "stream",
     "text": [
      "WARNING:root:The number of nodes in your data object can only be inferred by its edge indices, and hence may result in unexpected batch-wise behavior, e.g., in case there exists isolated nodes. Please consider explicitly setting the number of nodes for this data object by assigning it to data.num_nodes.\n"
     ]
    },
    {
     "data": {
      "text/plain": [
       "Data(edge_index=[2, 97024], train_mask=[97024], val_mask=[97024], x=[1510, 128])"
      ]
     },
     "execution_count": 15,
     "metadata": {},
     "output_type": "execute_result"
    }
   ],
   "source": [
    "data = pyg.data.Data(edge_index=edge_index, train_mask=train_mask, val_mask=val_mask)\n",
    "data.x = torch.randn(data.num_nodes, 128)\n",
    "data"
   ]
  },
  {
   "cell_type": "markdown",
   "metadata": {},
   "source": [
    "## Attention mechanism\n",
    "\n",
    "We will first see how to propagate information for a single node. This is easily done using an edge list, which we can easily obtain by using the CSR format of sparse matrices."
   ]
  },
  {
   "cell_type": "code",
   "execution_count": 16,
   "metadata": {},
   "outputs": [],
   "source": [
    "import torch_sparse"
   ]
  },
  {
   "cell_type": "code",
   "execution_count": 17,
   "metadata": {},
   "outputs": [
    {
     "data": {
      "text/plain": [
       "(tensor([    0,   133,   181,  ..., 97022, 97023, 97024]),\n",
       " tensor([   1,    2,    9,  ..., 1011,  346,   45]))"
      ]
     },
     "execution_count": 17,
     "metadata": {},
     "output_type": "execute_result"
    }
   ],
   "source": [
    "adj = torch_sparse.SparseTensor(row=edge_index[0], col=edge_index[1])\n",
    "indptr, indices, _ = adj.csr()\n",
    "indptr, indices"
   ]
  },
  {
   "cell_type": "code",
   "execution_count": 18,
   "metadata": {},
   "outputs": [
    {
     "data": {
      "text/plain": [
       "tensor([ 378,  412,  876, 1370, 1391])"
      ]
     },
     "execution_count": 18,
     "metadata": {},
     "output_type": "execute_result"
    }
   ],
   "source": [
    "# Select some arbitrary node with a small amount of neighbors (for demonstration purposes)\n",
    "node_idx = 1371\n",
    "\n",
    "# Get that nodes neighbors\n",
    "neighbors = indices[indptr[node_idx] : indptr[node_idx + 1]]\n",
    "neighbors"
   ]
  },
  {
   "cell_type": "markdown",
   "metadata": {},
   "source": [
    "### Calculate for single node\n",
    "\n",
    "It will be easiest to understand the attention mechanism if we first focus on a single node. We will then move on to using more nodes, but let's start simple."
   ]
  },
  {
   "cell_type": "code",
   "execution_count": 19,
   "metadata": {},
   "outputs": [],
   "source": [
    "x = data.x\n",
    "edge_index = data.edge_index"
   ]
  },
  {
   "cell_type": "markdown",
   "metadata": {},
   "source": [
    "Let's start by defining a few variables that will help us later on. For the out dimension, we'll arbitrarily choose 16."
   ]
  },
  {
   "cell_type": "code",
   "execution_count": 20,
   "metadata": {},
   "outputs": [],
   "source": [
    "in_features = x.shape[1]\n",
    "out_features = 16"
   ]
  },
  {
   "cell_type": "markdown",
   "metadata": {},
   "source": [
    "The attention update equation is given by \n",
    "\n",
    "$$\\sigma \\left( \\sum_{j \\in \\mathcal{N}_i} \\alpha_{ij} \\mathbf{W} x_j + b \\right)$$\n",
    "\n",
    "where $\\alpha_{ij}$ are attention coefficients we'll define later. So the parameters we need to learn here are the weight matrix $\\mathbf{W}$ and the bias term."
   ]
  },
  {
   "cell_type": "code",
   "execution_count": 21,
   "metadata": {},
   "outputs": [],
   "source": [
    "weight = torch.Tensor(torch.rand(in_features, out_features))\n",
    "bias = torch.Tensor(torch.rand(1))"
   ]
  },
  {
   "cell_type": "markdown",
   "metadata": {},
   "source": [
    "To calculate the attention coefficients $\\alpha_{ij}$, we need to evaluate the following expression\n",
    "\n",
    "$$\\text{LeakyReLU} \\left( \\mathbf{a}^T \\left[ \\mathbf{W} x_i || \\mathbf{W} x_j \\right] \\right).$$\n",
    "\n",
    "Then, we apply a softmax to these values to obtain the final attention coefficients.\n",
    "\n",
    "One clever trick we can use here is to split the $\\mathbf{a}$ vector into two vectors: $\\mathbf{a}_l$ and $\\mathbf{a}_r$. Then, we don't need to perform the actual concatenation, but can separate them separately. We can obtain the final $\\alpha_{ij}$ coefficients by summing together $\\mathbf{a}_l^T (\\mathbf{W} x_i)$ and $\\mathbf{a}_r^T (\\mathbf{W} x_j)$. It is trivial to show that these expressions are equivalent."
   ]
  },
  {
   "cell_type": "code",
   "execution_count": 22,
   "metadata": {},
   "outputs": [],
   "source": [
    "# Split the attention vector for efficiency\n",
    "att_l = torch.Tensor(torch.rand(1, out_features))\n",
    "att_r = torch.Tensor(torch.rand(1, out_features))"
   ]
  },
  {
   "cell_type": "markdown",
   "metadata": {},
   "source": [
    "To get $\\mathbf{W}x_i$ and $\\mathbf{W}x_j$, we can compute the entire matrix, then index as needed."
   ]
  },
  {
   "cell_type": "code",
   "execution_count": 26,
   "metadata": {},
   "outputs": [
    {
     "data": {
      "text/plain": [
       "torch.Size([1510, 16])"
      ]
     },
     "execution_count": 26,
     "metadata": {},
     "output_type": "execute_result"
    }
   ],
   "source": [
    "x_lin = x @ weight\n",
    "x_lin.shape"
   ]
  },
  {
   "cell_type": "markdown",
   "metadata": {},
   "source": [
    "We calculate the left attention coefficients for our chosen nodes' neighbors."
   ]
  },
  {
   "cell_type": "code",
   "execution_count": 27,
   "metadata": {},
   "outputs": [
    {
     "data": {
      "text/plain": [
       "tensor([-25.0890, -18.8468,  66.0441,  28.9065,  15.8225])"
      ]
     },
     "execution_count": 27,
     "metadata": {},
     "output_type": "execute_result"
    }
   ],
   "source": [
    "alpha_l = torch.sum(x_lin[neighbors] * att_r, dim=1)\n",
    "alpha_l"
   ]
  },
  {
   "cell_type": "markdown",
   "metadata": {},
   "source": [
    "And the same for our chosen node itself."
   ]
  },
  {
   "cell_type": "code",
   "execution_count": 28,
   "metadata": {},
   "outputs": [
    {
     "data": {
      "text/plain": [
       "tensor([-33.1518])"
      ]
     },
     "execution_count": 28,
     "metadata": {},
     "output_type": "execute_result"
    }
   ],
   "source": [
    "alpha_r = torch.sum(x_lin[node_idx] * att_r, dim=1)\n",
    "alpha_r"
   ]
  },
  {
   "cell_type": "markdown",
   "metadata": {},
   "source": [
    "To get the final unnormalized $\\alpha$ coefficients, we sum the two together."
   ]
  },
  {
   "cell_type": "code",
   "execution_count": 29,
   "metadata": {},
   "outputs": [
    {
     "data": {
      "text/plain": [
       "tensor([-58.2408, -51.9986,  32.8922,  -4.2453, -17.3293])"
      ]
     },
     "execution_count": 29,
     "metadata": {},
     "output_type": "execute_result"
    }
   ],
   "source": [
    "alpha = alpha_l + alpha_r\n",
    "alpha"
   ]
  },
  {
   "cell_type": "code",
   "execution_count": 30,
   "metadata": {},
   "outputs": [
    {
     "data": {
      "text/plain": [
       "tensor([-11.6482, -10.3997,  32.8922,  -0.8491,  -3.4659])"
      ]
     },
     "execution_count": 30,
     "metadata": {},
     "output_type": "execute_result"
    }
   ],
   "source": [
    "alpha = F.leaky_relu(alpha, negative_slope=0.2)\n",
    "alpha"
   ]
  },
  {
   "cell_type": "markdown",
   "metadata": {},
   "source": [
    "We softmax the $\\alpha$ coefficients, so that the neighbors feature vectors will be aggregated by effectively a weighted sum."
   ]
  },
  {
   "cell_type": "code",
   "execution_count": 31,
   "metadata": {},
   "outputs": [
    {
     "data": {
      "text/plain": [
       "tensor([4.5327e-20, 1.5796e-19, 1.0000e+00, 2.2200e-15, 1.6214e-16])"
      ]
     },
     "execution_count": 31,
     "metadata": {},
     "output_type": "execute_result"
    }
   ],
   "source": [
    "alpha = F.softmax(alpha, dim=0)\n",
    "alpha"
   ]
  },
  {
   "cell_type": "code",
   "execution_count": 32,
   "metadata": {},
   "outputs": [
    {
     "data": {
      "text/plain": [
       "tensor([15.5408, 11.9656, 12.1488, 13.8929, 15.3638,  8.5955, 11.9788, 11.3473,\n",
       "        10.8255, 16.4858, 13.3566,  5.7238, 11.7674, 11.1141,  5.7133,  7.9743])"
      ]
     },
     "execution_count": 32,
     "metadata": {},
     "output_type": "execute_result"
    }
   ],
   "source": [
    "Z = torch.sum(alpha.unsqueeze(-1) * x_lin[neighbors], dim=0)\n",
    "Z += bias\n",
    "Z"
   ]
  },
  {
   "cell_type": "code",
   "execution_count": 33,
   "metadata": {},
   "outputs": [
    {
     "data": {
      "text/plain": [
       "tensor([15.5408, 11.9656, 12.1488, 13.8929, 15.3638,  8.5955, 11.9788, 11.3473,\n",
       "        10.8255, 16.4858, 13.3566,  5.7238, 11.7674, 11.1141,  5.7133,  7.9743])"
      ]
     },
     "execution_count": 33,
     "metadata": {},
     "output_type": "execute_result"
    }
   ],
   "source": [
    "Z = F.relu(Z)\n",
    "Z"
   ]
  },
  {
   "cell_type": "markdown",
   "metadata": {},
   "source": [
    "We now have the new latent representation for our chosen node 1371 after applying the attention mechanism to its neighbors."
   ]
  },
  {
   "cell_type": "markdown",
   "metadata": {},
   "source": [
    "### Calculate for all nodes\n",
    "\n",
    "Now that we understand how the latent state is calculated for a single node, we can move on to efficiently calculating the latent state for all the nodes. We begin the same way as before, defining our dimensions and parameters."
   ]
  },
  {
   "cell_type": "code",
   "execution_count": 34,
   "metadata": {},
   "outputs": [],
   "source": [
    "x = data.x\n",
    "edge_index = data.edge_index"
   ]
  },
  {
   "cell_type": "code",
   "execution_count": 35,
   "metadata": {},
   "outputs": [],
   "source": [
    "in_features = x.shape[1]\n",
    "out_features = 16"
   ]
  },
  {
   "cell_type": "code",
   "execution_count": 36,
   "metadata": {},
   "outputs": [],
   "source": [
    "# Split the linear layer because we only want to apply the bias at the end\n",
    "weight = torch.Tensor(torch.rand(in_features, out_features))\n",
    "bias = torch.Tensor(torch.rand(1))"
   ]
  },
  {
   "cell_type": "code",
   "execution_count": 41,
   "metadata": {},
   "outputs": [],
   "source": [
    "# Split the attention vector for efficiency\n",
    "att_l = torch.Tensor(torch.rand(1, out_features))\n",
    "att_r = torch.Tensor(torch.rand(1, out_features))"
   ]
  },
  {
   "cell_type": "code",
   "execution_count": 42,
   "metadata": {},
   "outputs": [
    {
     "data": {
      "text/plain": [
       "torch.Size([1510, 16])"
      ]
     },
     "execution_count": 42,
     "metadata": {},
     "output_type": "execute_result"
    }
   ],
   "source": [
    "x_lin = x @ weight\n",
    "x_lin.shape"
   ]
  },
  {
   "cell_type": "markdown",
   "metadata": {},
   "source": [
    "This time, we'll calculate the partial attention coefficients for all the nodes, since we'll eventually need them all."
   ]
  },
  {
   "cell_type": "code",
   "execution_count": 43,
   "metadata": {},
   "outputs": [],
   "source": [
    "alpha_l = torch.sum(x_lin * att_l, dim=1)\n",
    "alpha_r = torch.sum(x_lin * att_r, dim=1)"
   ]
  },
  {
   "cell_type": "markdown",
   "metadata": {},
   "source": [
    "Now, we'll index the partial alpha coefficients using our edge index. So the source nodes (`edge_index[0]`) will be matched with their target nodes (`edge_index[1]`)."
   ]
  },
  {
   "cell_type": "code",
   "execution_count": 44,
   "metadata": {},
   "outputs": [
    {
     "data": {
      "text/plain": [
       "torch.Size([97024])"
      ]
     },
     "execution_count": 44,
     "metadata": {},
     "output_type": "execute_result"
    }
   ],
   "source": [
    "alpha = alpha_l[edge_index[0]] + alpha_r[edge_index[1]]\n",
    "alpha.shape"
   ]
  },
  {
   "cell_type": "markdown",
   "metadata": {},
   "source": [
    "We see that we have as many coefficients as there are edges in our graph."
   ]
  },
  {
   "cell_type": "code",
   "execution_count": 45,
   "metadata": {},
   "outputs": [
    {
     "data": {
      "text/plain": [
       "tensor([-17.2143, -58.0323,   4.7199,  ...,  -1.8413, -54.0889, 128.6888])"
      ]
     },
     "execution_count": 45,
     "metadata": {},
     "output_type": "execute_result"
    }
   ],
   "source": [
    "alpha"
   ]
  },
  {
   "cell_type": "code",
   "execution_count": 46,
   "metadata": {},
   "outputs": [
    {
     "data": {
      "text/plain": [
       "tensor([ -3.4429, -11.6065,   4.7199,  ...,  -0.3683, -10.8178, 128.6888])"
      ]
     },
     "execution_count": 46,
     "metadata": {},
     "output_type": "execute_result"
    }
   ],
   "source": [
    "alpha = F.leaky_relu(alpha, negative_slope=0.2)\n",
    "alpha"
   ]
  },
  {
   "cell_type": "markdown",
   "metadata": {},
   "source": [
    "To apply the softmax, we need to find each target node, and only perform the softmax over the nodes connected to it. Thankfully, torch_geometric has a helper function that does exactly this."
   ]
  },
  {
   "cell_type": "code",
   "execution_count": 47,
   "metadata": {},
   "outputs": [
    {
     "data": {
      "text/plain": [
       "tensor([0.0000e+00, 4.3496e-42, 0.0000e+00,  ..., 9.1248e-34, 8.8335e-29,\n",
       "        1.0685e-39])"
      ]
     },
     "execution_count": 47,
     "metadata": {},
     "output_type": "execute_result"
    }
   ],
   "source": [
    "alpha = pyg.utils.softmax(alpha, edge_index[1])\n",
    "alpha"
   ]
  },
  {
   "cell_type": "markdown",
   "metadata": {},
   "source": [
    "We can check that the softmax indeed did exactly what we wanted."
   ]
  },
  {
   "cell_type": "code",
   "execution_count": 48,
   "metadata": {},
   "outputs": [
    {
     "data": {
      "text/plain": [
       "tensor(1.)"
      ]
     },
     "execution_count": 48,
     "metadata": {},
     "output_type": "execute_result"
    }
   ],
   "source": [
    "alpha[edge_index[1] == node_idx].sum()"
   ]
  },
  {
   "cell_type": "markdown",
   "metadata": {},
   "source": [
    "Then, we'll take each representation of the source nodes, and multiply them with their attention coefficients."
   ]
  },
  {
   "cell_type": "code",
   "execution_count": 49,
   "metadata": {},
   "outputs": [
    {
     "data": {
      "text/plain": [
       "torch.Size([97024, 16])"
      ]
     },
     "execution_count": 49,
     "metadata": {},
     "output_type": "execute_result"
    }
   ],
   "source": [
    "z_j = alpha.unsqueeze(-1) * x_lin[edge_index[0]]\n",
    "z_j.shape"
   ]
  },
  {
   "cell_type": "markdown",
   "metadata": {},
   "source": [
    "Finally, we need to aggregate these together to obtain the final latent representation. To do this, we'll have to iterate over each node, find all their neighbors, and sum their representations together. This is fairly easy to do with a simple for loop."
   ]
  },
  {
   "cell_type": "code",
   "execution_count": 50,
   "metadata": {},
   "outputs": [
    {
     "data": {
      "text/plain": [
       "tensor([[11.4580, 18.4053, 19.2791,  ..., 16.0059, 14.6000, 20.7098],\n",
       "        [21.2507, 12.1373, 13.8304,  ..., 17.2289, 13.0378, 16.1956],\n",
       "        [21.2507, 12.1373, 13.8304,  ..., 17.2289, 13.0378, 16.1956],\n",
       "        ...,\n",
       "        [-3.6347,  3.3949,  2.0840,  ...,  0.5942,  3.5522,  2.3154],\n",
       "        [-8.9762, -2.7442, -6.4423,  ..., -9.4922, -8.6632, -8.1590],\n",
       "        [12.7997, 12.5907, 12.1301,  ..., 14.8058, 12.4967,  7.9908]])"
      ]
     },
     "execution_count": 50,
     "metadata": {},
     "output_type": "execute_result"
    }
   ],
   "source": [
    "Z = torch.zeros(data.num_nodes, z_j.shape[1])\n",
    "for i, j in enumerate(edge_index[1]):\n",
    "    Z[j] += z_j[i]\n",
    "Z"
   ]
  },
  {
   "cell_type": "markdown",
   "metadata": {},
   "source": [
    "However, for loops are fairly slow and non-pythonic, and we have torch_scatter, which does this for us efficiently, and on the GPU! This is exactly what torch_geometric does under the hood."
   ]
  },
  {
   "cell_type": "code",
   "execution_count": 51,
   "metadata": {},
   "outputs": [],
   "source": [
    "import torch_scatter"
   ]
  },
  {
   "cell_type": "code",
   "execution_count": 52,
   "metadata": {},
   "outputs": [
    {
     "data": {
      "text/plain": [
       "torch.Size([1510, 16])"
      ]
     },
     "execution_count": 52,
     "metadata": {},
     "output_type": "execute_result"
    }
   ],
   "source": [
    "Z1 = torch_scatter.scatter(z_j, edge_index[1], dim=0, reduce=\"add\")\n",
    "Z1.shape"
   ]
  },
  {
   "cell_type": "code",
   "execution_count": 53,
   "metadata": {},
   "outputs": [
    {
     "data": {
      "text/plain": [
       "tensor([[11.4580, 18.4053, 19.2791,  ..., 16.0059, 14.6000, 20.7098],\n",
       "        [21.2507, 12.1373, 13.8304,  ..., 17.2289, 13.0378, 16.1956],\n",
       "        [21.2507, 12.1373, 13.8304,  ..., 17.2289, 13.0378, 16.1956],\n",
       "        ...,\n",
       "        [-3.6347,  3.3949,  2.0840,  ...,  0.5942,  3.5522,  2.3154],\n",
       "        [-8.9762, -2.7442, -6.4423,  ..., -9.4922, -8.6632, -8.1590],\n",
       "        [12.7997, 12.5907, 12.1301,  ..., 14.8058, 12.4967,  7.9908]])"
      ]
     },
     "execution_count": 53,
     "metadata": {},
     "output_type": "execute_result"
    }
   ],
   "source": [
    "Z1"
   ]
  },
  {
   "cell_type": "markdown",
   "metadata": {},
   "source": [
    "Notice that the results are exactly the same as with our for loop before, but much faster.\n",
    "\n",
    "The final step is to, again, to add the bias, and apply a non-linearity."
   ]
  },
  {
   "cell_type": "code",
   "execution_count": 54,
   "metadata": {},
   "outputs": [
    {
     "data": {
      "text/plain": [
       "tensor([[11.9567, 18.9040, 19.7778,  ..., 16.5046, 15.0986, 21.2085],\n",
       "        [21.7494, 12.6359, 14.3291,  ..., 17.7276, 13.5365, 16.6943],\n",
       "        [21.7494, 12.6359, 14.3291,  ..., 17.7276, 13.5365, 16.6943],\n",
       "        ...,\n",
       "        [-3.1360,  3.8936,  2.5827,  ...,  1.0929,  4.0509,  2.8141],\n",
       "        [-8.4776, -2.2456, -5.9436,  ..., -8.9935, -8.1645, -7.6603],\n",
       "        [13.2984, 13.0894, 12.6288,  ..., 15.3045, 12.9954,  8.4895]])"
      ]
     },
     "execution_count": 54,
     "metadata": {},
     "output_type": "execute_result"
    }
   ],
   "source": [
    "Z += bias\n",
    "Z"
   ]
  },
  {
   "cell_type": "code",
   "execution_count": 55,
   "metadata": {},
   "outputs": [
    {
     "data": {
      "text/plain": [
       "tensor([[11.9567, 18.9040, 19.7778,  ..., 16.5046, 15.0986, 21.2085],\n",
       "        [21.7494, 12.6359, 14.3291,  ..., 17.7276, 13.5365, 16.6943],\n",
       "        [21.7494, 12.6359, 14.3291,  ..., 17.7276, 13.5365, 16.6943],\n",
       "        ...,\n",
       "        [ 0.0000,  3.8936,  2.5827,  ...,  1.0929,  4.0509,  2.8141],\n",
       "        [ 0.0000,  0.0000,  0.0000,  ...,  0.0000,  0.0000,  0.0000],\n",
       "        [13.2984, 13.0894, 12.6288,  ..., 15.3045, 12.9954,  8.4895]])"
      ]
     },
     "execution_count": 55,
     "metadata": {},
     "output_type": "execute_result"
    }
   ],
   "source": [
    "Z = F.relu(Z)\n",
    "Z"
   ]
  },
  {
   "cell_type": "markdown",
   "metadata": {},
   "source": [
    "### Putting it into torch_geometric\n",
    "\n",
    "Thankfully, we don't have to do these mental gymnastics with `edge_indices` and figure out how to aggregate the latent representations, as we have _torch_geometric_ that does this automatically for us. In fact, torch_geometric does exactly the same thing as we've done above, but provides a nicer interface. Let's rewrite our graph attention layer with _torch_geometric_."
   ]
  },
  {
   "cell_type": "code",
   "execution_count": 57,
   "metadata": {},
   "outputs": [
    {
     "data": {
      "text/plain": [
       "tensor([[11.9567, 18.9040, 19.7778,  ..., 16.5046, 15.0986, 21.2085],\n",
       "        [21.7494, 12.6359, 14.3291,  ..., 17.7276, 13.5365, 16.6943],\n",
       "        [21.7494, 12.6359, 14.3291,  ..., 17.7276, 13.5365, 16.6943],\n",
       "        ...,\n",
       "        [ 0.0000,  3.8936,  2.5827,  ...,  1.0929,  4.0509,  2.8141],\n",
       "        [ 0.0000,  0.0000,  0.0000,  ...,  0.0000,  0.0000,  0.0000],\n",
       "        [13.2984, 13.0894, 12.6288,  ..., 15.3045, 12.9954,  8.4895]])"
      ]
     },
     "execution_count": 57,
     "metadata": {},
     "output_type": "execute_result"
    }
   ],
   "source": [
    "class GATConv(pyg.nn.MessagePassing):\n",
    "    def __init__(self):\n",
    "        super().__init__(aggr=\"add\", node_dim=0)\n",
    "        self.weight = weight\n",
    "        self.bias = bias\n",
    "        self.att_l = att_l\n",
    "        self.att_r = att_r\n",
    "        \n",
    "    def forward(self, x, edge_index):\n",
    "        x_lin = x @ self.weight\n",
    "        \n",
    "        alpha_l = torch.sum(x_lin * self.att_l, dim=1)\n",
    "        alpha_r = torch.sum(x_lin * self.att_r, dim=1)\n",
    "        \n",
    "        out = self.propagate(edge_index, x=x_lin, alpha=(alpha_l, alpha_r))\n",
    "        \n",
    "        out += self.bias\n",
    "        \n",
    "        return out\n",
    "        \n",
    "    def message(self, x_j, alpha_i, alpha_j, index):\n",
    "        alpha = alpha_i + alpha_j\n",
    "        alpha = F.leaky_relu(alpha, 0.2)\n",
    "        alpha = pyg.utils.softmax(alpha, index)\n",
    "        return alpha.unsqueeze(-1) * x_j\n",
    "    \n",
    "conv = GATConv()\n",
    "F.relu(conv(x, edge_index))"
   ]
  },
  {
   "cell_type": "markdown",
   "metadata": {},
   "source": [
    "Notice that the result is exaclty the same as before! But we didn't have to worry about any indices or aggregation."
   ]
  },
  {
   "cell_type": "markdown",
   "metadata": {},
   "source": [
    "## Multi-head attention\n",
    "\n",
    "Up until now, we have been looking at a single vector of attention coefficients. More commonly, we use multiple attention \"heads\". This means we instead use several attention vectors to create $K$ latent representations. The core idea remains entirely the same."
   ]
  },
  {
   "cell_type": "code",
   "execution_count": 58,
   "metadata": {},
   "outputs": [],
   "source": [
    "x = data.x\n",
    "edge_index = data.edge_index"
   ]
  },
  {
   "cell_type": "code",
   "execution_count": 59,
   "metadata": {},
   "outputs": [],
   "source": [
    "in_features = x.shape[1]\n",
    "out_features = 16\n",
    "k_heads = 3"
   ]
  },
  {
   "cell_type": "code",
   "execution_count": 60,
   "metadata": {},
   "outputs": [],
   "source": [
    "weight = torch.Tensor(torch.rand(in_features, k_heads * out_features))\n",
    "bias = torch.Tensor(torch.rand(1, k_heads, 1))"
   ]
  },
  {
   "cell_type": "code",
   "execution_count": 61,
   "metadata": {},
   "outputs": [
    {
     "data": {
      "text/plain": [
       "(torch.Size([1, 3, 16]), torch.Size([1, 3, 16]))"
      ]
     },
     "execution_count": 61,
     "metadata": {},
     "output_type": "execute_result"
    }
   ],
   "source": [
    "# Split the attention vector for efficiency\n",
    "att_l = torch.Tensor(torch.rand(1, k_heads, out_features))\n",
    "att_r = torch.Tensor(torch.rand(1, k_heads, out_features))\n",
    "att_l.shape, att_r.shape"
   ]
  },
  {
   "cell_type": "code",
   "execution_count": 62,
   "metadata": {},
   "outputs": [
    {
     "data": {
      "text/plain": [
       "torch.Size([1510, 3, 16])"
      ]
     },
     "execution_count": 62,
     "metadata": {},
     "output_type": "execute_result"
    }
   ],
   "source": [
    "x_lin = (x @ weight).view(-1, k_heads, out_features)\n",
    "x_lin.shape"
   ]
  },
  {
   "cell_type": "markdown",
   "metadata": {},
   "source": [
    "This time, we'll calculate the partial attention coefficients for all the nodes, since we'll eventually need them all."
   ]
  },
  {
   "cell_type": "code",
   "execution_count": 63,
   "metadata": {},
   "outputs": [
    {
     "data": {
      "text/plain": [
       "(torch.Size([1510, 3]), torch.Size([1510, 3]))"
      ]
     },
     "execution_count": 63,
     "metadata": {},
     "output_type": "execute_result"
    }
   ],
   "source": [
    "alpha_l = torch.sum(x_lin * att_l, dim=2)\n",
    "alpha_r = torch.sum(x_lin * att_r, dim=2)\n",
    "alpha_l.shape, alpha_r.shape"
   ]
  },
  {
   "cell_type": "markdown",
   "metadata": {},
   "source": [
    "Now, we'll index the partial alpha coefficients using our edge index. So the source nodes (`edge_index[0]`) will be matched with their target nodes (`edge_index[1]`)."
   ]
  },
  {
   "cell_type": "code",
   "execution_count": 64,
   "metadata": {},
   "outputs": [
    {
     "data": {
      "text/plain": [
       "torch.Size([97024, 3])"
      ]
     },
     "execution_count": 64,
     "metadata": {},
     "output_type": "execute_result"
    }
   ],
   "source": [
    "alpha = alpha_l[edge_index[0]] + alpha_r[edge_index[1]]\n",
    "alpha.shape"
   ]
  },
  {
   "cell_type": "markdown",
   "metadata": {},
   "source": [
    "We see that we have as many coefficients as there are edges in our graph."
   ]
  },
  {
   "cell_type": "code",
   "execution_count": 65,
   "metadata": {},
   "outputs": [
    {
     "data": {
      "text/plain": [
       "tensor([[ -8.3418, -32.9474, -11.1034],\n",
       "        [-46.2163, -37.1257, -38.8225],\n",
       "        [ 14.6325,  -3.8859,  -6.5477],\n",
       "        ...,\n",
       "        [  7.6691,  18.0014,   7.9314],\n",
       "        [-24.7279, -38.5599, -56.4428],\n",
       "        [115.3526,  97.1688,  92.3886]])"
      ]
     },
     "execution_count": 65,
     "metadata": {},
     "output_type": "execute_result"
    }
   ],
   "source": [
    "alpha"
   ]
  },
  {
   "cell_type": "code",
   "execution_count": 66,
   "metadata": {},
   "outputs": [
    {
     "data": {
      "text/plain": [
       "tensor([[ -1.6684,  -6.5895,  -2.2207],\n",
       "        [ -9.2433,  -7.4251,  -7.7645],\n",
       "        [ 14.6325,  -0.7772,  -1.3095],\n",
       "        ...,\n",
       "        [  7.6691,  18.0014,   7.9314],\n",
       "        [ -4.9456,  -7.7120, -11.2886],\n",
       "        [115.3526,  97.1688,  92.3886]])"
      ]
     },
     "execution_count": 66,
     "metadata": {},
     "output_type": "execute_result"
    }
   ],
   "source": [
    "alpha = F.leaky_relu(alpha, negative_slope=0.2)\n",
    "alpha"
   ]
  },
  {
   "cell_type": "code",
   "execution_count": 67,
   "metadata": {},
   "outputs": [
    {
     "data": {
      "text/plain": [
       "tensor([[0.0000e+00, 1.9618e-44, 0.0000e+00],\n",
       "        [4.7514e-33, 5.6753e-43, 4.4842e-44],\n",
       "        [0.0000e+00, 0.0000e+00, 0.0000e+00],\n",
       "        ...,\n",
       "        [2.1604e-34, 1.0964e-26, 3.2377e-25],\n",
       "        [7.7440e-33, 2.0522e-27, 2.7509e-19],\n",
       "        [2.6476e-33, 2.6182e-41, 1.5334e-37]])"
      ]
     },
     "execution_count": 67,
     "metadata": {},
     "output_type": "execute_result"
    }
   ],
   "source": [
    "alpha = pyg.utils.softmax(alpha, edge_index[1])\n",
    "alpha"
   ]
  },
  {
   "cell_type": "code",
   "execution_count": 68,
   "metadata": {},
   "outputs": [
    {
     "data": {
      "text/plain": [
       "tensor(1.)"
      ]
     },
     "execution_count": 68,
     "metadata": {},
     "output_type": "execute_result"
    }
   ],
   "source": [
    "alpha[edge_index[1] == node_idx, 0].sum()"
   ]
  },
  {
   "cell_type": "code",
   "execution_count": 69,
   "metadata": {},
   "outputs": [
    {
     "data": {
      "text/plain": [
       "torch.Size([97024, 3, 16])"
      ]
     },
     "execution_count": 69,
     "metadata": {},
     "output_type": "execute_result"
    }
   ],
   "source": [
    "z_j = alpha.unsqueeze(-1) * x_lin[edge_index[0]]\n",
    "z_j.shape"
   ]
  },
  {
   "cell_type": "code",
   "execution_count": 70,
   "metadata": {},
   "outputs": [
    {
     "data": {
      "text/plain": [
       "torch.Size([1510, 3, 16])"
      ]
     },
     "execution_count": 70,
     "metadata": {},
     "output_type": "execute_result"
    }
   ],
   "source": [
    "Z = torch_scatter.scatter(z_j, edge_index[1], dim=0, reduce=\"add\")\n",
    "Z.shape"
   ]
  },
  {
   "cell_type": "code",
   "execution_count": 71,
   "metadata": {},
   "outputs": [],
   "source": [
    "Z += bias\n",
    "Z = F.relu(Z)"
   ]
  },
  {
   "cell_type": "code",
   "execution_count": 72,
   "metadata": {},
   "outputs": [
    {
     "data": {
      "text/plain": [
       "torch.Size([1510, 3, 16])"
      ]
     },
     "execution_count": 72,
     "metadata": {},
     "output_type": "execute_result"
    }
   ],
   "source": [
    "Z.shape"
   ]
  },
  {
   "cell_type": "markdown",
   "metadata": {},
   "source": [
    "We have a 16 dimensional feature vector for each of the attention heads. Usually, we just concatenate these feature vectors, or average them, depending on the circumstance. Here, simple concatenation will be fine."
   ]
  },
  {
   "cell_type": "code",
   "execution_count": 73,
   "metadata": {},
   "outputs": [
    {
     "data": {
      "text/plain": [
       "tensor([[24.7915, 15.5588, 17.4669,  ..., 20.5410, 19.1474, 16.8559],\n",
       "        [19.8680, 16.8588, 12.8395,  ..., 15.5043, 14.0698, 11.6519],\n",
       "        [19.8680, 16.8588, 12.8395,  ..., 15.5043, 14.0698, 11.6519],\n",
       "        ...,\n",
       "        [ 0.0000,  2.1560,  2.1620,  ...,  0.0000,  2.3311,  0.6926],\n",
       "        [ 0.0000,  0.0000,  0.0000,  ...,  0.0000,  0.0000,  0.0000],\n",
       "        [20.0690,  8.7982,  7.3200,  ...,  8.7377,  8.0116, 13.0630]])"
      ]
     },
     "execution_count": 73,
     "metadata": {},
     "output_type": "execute_result"
    }
   ],
   "source": [
    "Z = Z.view(-1, k_heads * out_features)\n",
    "Z"
   ]
  },
  {
   "cell_type": "code",
   "execution_count": 74,
   "metadata": {},
   "outputs": [
    {
     "data": {
      "text/plain": [
       "torch.Size([1510, 48])"
      ]
     },
     "execution_count": 74,
     "metadata": {},
     "output_type": "execute_result"
    }
   ],
   "source": [
    "Z.shape"
   ]
  },
  {
   "cell_type": "markdown",
   "metadata": {},
   "source": [
    "# Putting it all together\n",
    "\n",
    "We now have a good understanding of the attention mechanism and _torch_geometric_. So let's put all this knowledge to use and actually learn some embeddings for our little graph.\n",
    "\n",
    "We'll implement a two-layer GNN using multi-head attention layers. We'll add a couple of things to our GAT implementation. First, we'll improve the initialization a little bit and use glorot init instead of random normal, which tends to improve training. Secondly, we'll add a `concat` parameter, which will indicate whether we want to concat the output of the different attention heads, or just simlpy average their outputs. This is often done at the final layer to reduce the dimensionality of the embedding."
   ]
  },
  {
   "cell_type": "code",
   "execution_count": 75,
   "metadata": {},
   "outputs": [],
   "source": [
    "from torch_geometric.nn.inits import glorot, zeros\n",
    "\n",
    "\n",
    "class GATConv(pyg.nn.MessagePassing):\n",
    "    def __init__(self, in_features, out_features, k_heads=1, concat=True):\n",
    "        super().__init__(aggr=\"add\", node_dim=0)\n",
    "        self.in_features = in_features\n",
    "        self.out_features = out_features\n",
    "        self.k_heads = k_heads\n",
    "        self.concat = concat\n",
    "        \n",
    "        self.weight = torch.nn.Parameter(torch.Tensor(in_features, out_features * k_heads))\n",
    "        if concat:\n",
    "            self.bias = torch.nn.Parameter(torch.Tensor(k_heads * out_features))\n",
    "        else:\n",
    "            self.bias = torch.nn.Parameter(torch.Tensor(1, out_features))\n",
    "            \n",
    "        self.att_l = torch.nn.Parameter(torch.Tensor(1, k_heads, out_features))\n",
    "        self.att_r = torch.nn.Parameter(torch.Tensor(1, k_heads, out_features))\n",
    "        \n",
    "        self.reset_parameters()\n",
    "        \n",
    "    def reset_parameters(self):\n",
    "        glorot(self.weight)\n",
    "        glorot(self.att_l)\n",
    "        glorot(self.att_r)\n",
    "        zeros(self.bias)\n",
    "        \n",
    "    def forward(self, x, edge_index):\n",
    "        x_lin = (x @ self.weight).view(-1, self.k_heads, self.out_features)\n",
    "        \n",
    "        alpha_l = torch.sum(x_lin * self.att_l, dim=2)\n",
    "        alpha_r = torch.sum(x_lin * self.att_r, dim=2)\n",
    "        \n",
    "        out = self.propagate(edge_index, x=x_lin, alpha=(alpha_l, alpha_r))\n",
    "        \n",
    "        if self.concat:\n",
    "            out = out.view(-1, self.k_heads * self.out_features)\n",
    "        else:\n",
    "            out = out.mean(dim=1)\n",
    "        \n",
    "        out += self.bias\n",
    "        \n",
    "        return out\n",
    "        \n",
    "    def message(self, x_j, alpha_i, alpha_j, index):\n",
    "        alpha = alpha_i + alpha_j\n",
    "        alpha = F.leaky_relu(alpha, 0.2)\n",
    "        alpha = pyg.utils.softmax(alpha, index)\n",
    "        return alpha.unsqueeze(-1) * x_j"
   ]
  },
  {
   "cell_type": "markdown",
   "metadata": {},
   "source": [
    "### Define the model"
   ]
  },
  {
   "cell_type": "markdown",
   "metadata": {},
   "source": [
    "To check how well our model is doing, we want to validate performance using a set of real, existing edges, as well as an equal number of non-existent edges. To get these non-existent edges, we perform negative sampling, and attach these to our data object."
   ]
  },
  {
   "cell_type": "code",
   "execution_count": 76,
   "metadata": {},
   "outputs": [],
   "source": [
    "data.val_neg_edge_index = negative_sampling(data.edge_index, num_neg_samples=data.val_mask.sum())"
   ]
  },
  {
   "cell_type": "code",
   "execution_count": 77,
   "metadata": {},
   "outputs": [
    {
     "data": {
      "text/plain": [
       "device(type='cuda')"
      ]
     },
     "execution_count": 77,
     "metadata": {},
     "output_type": "execute_result"
    }
   ],
   "source": [
    "device = torch.device(\"cuda\" if torch.cuda.is_available() else \"cpu\")\n",
    "device"
   ]
  },
  {
   "cell_type": "code",
   "execution_count": 78,
   "metadata": {},
   "outputs": [],
   "source": [
    "class Encoder(torch.nn.Module):\n",
    "    def __init__(self, in_dim, hidden_dim, out_dim, k_heads=4):\n",
    "        super().__init__()\n",
    "        self.conv1 = GATConv(in_dim, hidden_dim, k_heads=k_heads)\n",
    "        self.conv2 = GATConv(hidden_dim * k_heads, out_dim, k_heads=k_heads, concat=False)\n",
    "    \n",
    "    def forward(self, x, edge_index):\n",
    "        x = F.relu(self.conv1(x, edge_index))\n",
    "        return self.conv2(x, edge_index)"
   ]
  },
  {
   "cell_type": "code",
   "execution_count": 79,
   "metadata": {},
   "outputs": [
    {
     "data": {
      "text/plain": [
       "GAE(\n",
       "  (encoder): Encoder(\n",
       "    (conv1): GATConv()\n",
       "    (conv2): GATConv()\n",
       "  )\n",
       "  (decoder): InnerProductDecoder()\n",
       ")"
      ]
     },
     "execution_count": 79,
     "metadata": {},
     "output_type": "execute_result"
    }
   ],
   "source": [
    "model = GAE(Encoder(data.num_features, hidden_dim=32, out_dim=16, k_heads=8)).to(device)\n",
    "model"
   ]
  },
  {
   "cell_type": "code",
   "execution_count": 80,
   "metadata": {},
   "outputs": [],
   "source": [
    "optimizer = torch.optim.Adam(model.parameters(), lr=0.01)"
   ]
  },
  {
   "cell_type": "code",
   "execution_count": 81,
   "metadata": {},
   "outputs": [
    {
     "name": "stdout",
     "output_type": "stream",
     "text": [
      "Epoch: 020, Training loss: 1.2700, Validation loss: 1.2720, AUC: 0.7296, AP: 0.7207\n",
      "Epoch: 040, Training loss: 1.1052, Validation loss: 1.1526, AUC: 0.8257, AP: 0.8115\n",
      "Epoch: 060, Training loss: 1.0635, Validation loss: 1.1167, AUC: 0.8785, AP: 0.8752\n",
      "Epoch: 080, Training loss: 0.9959, Validation loss: 1.0675, AUC: 0.8977, AP: 0.9009\n",
      "Epoch: 100, Training loss: 0.9617, Validation loss: 1.0413, AUC: 0.9210, AP: 0.9271\n",
      "Epoch: 120, Training loss: 0.9340, Validation loss: 1.0225, AUC: 0.9315, AP: 0.9351\n",
      "Epoch: 140, Training loss: 0.9130, Validation loss: 0.9829, AUC: 0.9386, AP: 0.9380\n",
      "Epoch: 160, Training loss: 0.8875, Validation loss: 0.9973, AUC: 0.9512, AP: 0.9502\n",
      "Epoch: 180, Training loss: 0.8743, Validation loss: 0.9600, AUC: 0.9470, AP: 0.9483\n",
      "Epoch: 200, Training loss: 0.8514, Validation loss: 1.0092, AUC: 0.9589, AP: 0.9607\n",
      "Epoch: 220, Training loss: 0.8300, Validation loss: 0.9487, AUC: 0.9619, AP: 0.9639\n",
      "Epoch: 240, Training loss: 0.8306, Validation loss: 0.9931, AUC: 0.9667, AP: 0.9685\n",
      "Epoch: 260, Training loss: 0.8162, Validation loss: 0.9543, AUC: 0.9668, AP: 0.9687\n",
      "Epoch: 280, Training loss: 0.8142, Validation loss: 1.0438, AUC: 0.9660, AP: 0.9672\n",
      "Epoch: 300, Training loss: 0.8118, Validation loss: 1.0246, AUC: 0.9668, AP: 0.9699\n",
      "Epoch: 320, Training loss: 0.7987, Validation loss: 1.0099, AUC: 0.9695, AP: 0.9715\n",
      "Epoch: 340, Training loss: 0.8030, Validation loss: 1.0387, AUC: 0.9714, AP: 0.9715\n",
      "Epoch: 360, Training loss: 0.7900, Validation loss: 1.0273, AUC: 0.9763, AP: 0.9754\n",
      "Epoch: 380, Training loss: 0.7906, Validation loss: 1.0646, AUC: 0.9762, AP: 0.9758\n",
      "Epoch: 400, Training loss: 0.7821, Validation loss: 1.0235, AUC: 0.9721, AP: 0.9728\n"
     ]
    }
   ],
   "source": [
    "training_losses, validation_losses, val_auc, val_ap = [], [], [], []\n",
    "\n",
    "for epoch in range(400):\n",
    "    model.train()\n",
    "    optimizer.zero_grad()\n",
    "    \n",
    "    # train_pos_edge_index contains the true edges, i.e. edges that exist, in the training set\n",
    "    train_pos_edge_index = data.edge_index[:, data.train_mask].to(device)\n",
    "    x = data.x.to(device)\n",
    "    \n",
    "    # z holds the node embeddings\n",
    "    z = model.encode(x, train_pos_edge_index)\n",
    "    # while the link prediction is performed inside this handy model.recon_loss function\n",
    "    loss = model.recon_loss(z, train_pos_edge_index)\n",
    "    training_loss = loss.item()\n",
    "    loss.backward()\n",
    "    optimizer.step()\n",
    "\n",
    "    model.eval()\n",
    "    \n",
    "    # To validate our model, we first compute node embeddings for each node using the training\n",
    "    # set edges.\n",
    "    train_pos_edge_index = data.edge_index[:, data.train_mask].to(device)\n",
    "    # Our model's predictions will then be checked against the true, existing validation edges\n",
    "    # stored in val_pos_edge_index\n",
    "    val_pos_edge_index = data.edge_index[:, data.val_mask].to(device)\n",
    "\n",
    "    with torch.no_grad():\n",
    "        z = model.encode(data.x.to(device), train_pos_edge_index)\n",
    "        validation_loss = model.recon_loss(z, val_pos_edge_index).item()\n",
    "    \n",
    "    auc, ap = model.test(z, val_pos_edge_index, data.val_neg_edge_index)\n",
    "    \n",
    "    training_losses.append(training_loss)\n",
    "    validation_losses.append(validation_loss)\n",
    "    val_auc.append(auc)\n",
    "    val_ap.append(ap)\n",
    "    \n",
    "    if (epoch + 1) % 20 == 0:\n",
    "        print(\"Epoch: {:03d}, Training loss: {:.4f}, Validation loss: {:.4f}, AUC: {:.4f}, AP: {:.4f}\".format(\n",
    "            epoch + 1, training_loss, validation_loss, auc, ap))"
   ]
  },
  {
   "cell_type": "code",
   "execution_count": 82,
   "metadata": {},
   "outputs": [
    {
     "data": {
      "text/plain": [
       "[<matplotlib.lines.Line2D at 0x7f8cd8bbf6d0>]"
      ]
     },
     "execution_count": 82,
     "metadata": {},
     "output_type": "execute_result"
    },
    {
     "data": {
      "image/png": "[encoded data removed]",
      "text/plain": [
       "<Figure size 1728x288 with 3 Axes>"
      ]
     },
     "metadata": {
      "needs_background": "light"
     },
     "output_type": "display_data"
    }
   ],
   "source": [
    "fig, ax = plt.subplots(ncols=3, figsize=(24, 4))\n",
    "\n",
    "ax[0].set_title(\"Log loss\")\n",
    "ax[0].plot(training_losses, label=\"Train\")\n",
    "ax[0].plot(validation_losses, label=\"Validation\")\n",
    "ax[0].legend()\n",
    "\n",
    "ax[1].set_title(\"AUC score\")\n",
    "ax[1].plot(val_auc)\n",
    "\n",
    "ax[2].set_title(\"Average precision\")\n",
    "ax[2].plot(val_ap)"
   ]
  },
  {
   "cell_type": "markdown",
   "metadata": {},
   "source": [
    "#### Inspect node embeddings\n",
    "\n",
    "Now that our model is trained, we can visualize the node embeddings. We decided that our node embeddings are 16-dimensional. We can easily convert this to a 2D visualization using any visualization algorithm. We will not go into any interpretation here, as the point of the notebook is to demonstrate how to actually fit these models."
   ]
  },
  {
   "cell_type": "code",
   "execution_count": 83,
   "metadata": {},
   "outputs": [
    {
     "data": {
      "text/plain": [
       "array([[ 0.2754068 , -0.8863642 , -0.07997369, ...,  1.3031423 ,\n",
       "        -0.7492251 ,  0.848655  ],\n",
       "       [-0.11989047, -0.2723707 , -0.44147307, ...,  0.8393395 ,\n",
       "        -0.50665414,  0.3370611 ],\n",
       "       [ 0.07377554, -0.8428259 ,  0.10095653, ...,  0.06597434,\n",
       "        -0.6916208 ,  0.9440733 ],\n",
       "       ...,\n",
       "       [-0.08033479, -0.1174776 ,  0.2190264 , ..., -0.19448355,\n",
       "         0.21716231, -0.2517559 ],\n",
       "       [ 0.21717554, -0.5968388 ,  0.29101956, ..., -0.10746823,\n",
       "         0.20049906,  0.00844433],\n",
       "       [-0.13049218,  0.04450371, -0.25068897, ...,  0.12702832,\n",
       "         0.3797775 , -0.5494634 ]], dtype=float32)"
      ]
     },
     "execution_count": 83,
     "metadata": {},
     "output_type": "execute_result"
    }
   ],
   "source": [
    "embedding = z.cpu().detach().numpy()\n",
    "embedding"
   ]
  },
  {
   "cell_type": "code",
   "execution_count": 84,
   "metadata": {},
   "outputs": [],
   "source": [
    "from openTSNE import TSNE\n",
    "\n",
    "tsne_embedding = TSNE(exaggeration=2, n_jobs=4).fit(embedding)"
   ]
  },
  {
   "cell_type": "code",
   "execution_count": 85,
   "metadata": {},
   "outputs": [
    {
     "data": {
      "text/plain": [
       "<matplotlib.collections.PathCollection at 0x7f8cd84bbfd0>"
      ]
     },
     "execution_count": 85,
     "metadata": {},
     "output_type": "execute_result"
    },
    {
     "data": {
      "image/png": "[encoded data removed]",
      "text/plain": [
       "<Figure size 576x576 with 1 Axes>"
      ]
     },
     "metadata": {
      "needs_background": "light"
     },
     "output_type": "display_data"
    }
   ],
   "source": [
    "fig, ax = plt.subplots(figsize=(8, 8))\n",
    "ax.scatter(tsne_embedding[:, 0], tsne_embedding[:, 1], s=3)"
   ]
  },
  {
   "cell_type": "code",
   "execution_count": null,
   "metadata": {},
   "outputs": [],
   "source": []
  }
 ],
 "metadata": {
  "kernelspec": {
   "display_name": "Python 3",
   "language": "python",
   "name": "python3"
  },
  "language_info": {
   "codemirror_mode": {
    "name": "ipython",
    "version": 3
   },
   "file_extension": ".py",
   "mimetype": "text/x-python",
   "name": "python",
   "nbconvert_exporter": "python",
   "pygments_lexer": "ipython3",
   "version": "3.8.5"
  }
 },
 "nbformat": 4,
 "nbformat_minor": 4
}
